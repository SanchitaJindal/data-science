{
 "cells": [
  {
   "cell_type": "markdown",
   "id": "1987886f",
   "metadata": {
    "papermill": {
     "duration": 0.012939,
     "end_time": "2024-01-28T08:19:49.122200",
     "exception": false,
     "start_time": "2024-01-28T08:19:49.109261",
     "status": "completed"
    },
    "tags": []
   },
   "source": [
    "# Dataset referred\n",
    "https://www.kaggle.com/datasets/kianindeed/imdb-movie-dataset-dec-2023/data\n",
    "# Notebook on kaggle\n",
    "https://www.kaggle.com/code/sanchitajindal/imdb-eda\n",
    "# Table of Contents\n",
    "- [Standardization](#Standardization)\n",
    "- [Reading and Inspecting Data](#Reading-and-Inspecting-Data)\n",
    "- [Data Cleaning](#Data-Cleaning)\n",
    "- [Univariate Analysis](#Univariate-Analysis)\n",
    "- [Bivariate Analysis](#Bivariate-Analysis)\n",
    "- [Summary](#Summary)"
   ]
  },
  {
   "cell_type": "code",
   "execution_count": 1,
   "id": "abdf4e4f",
   "metadata": {
    "_cell_guid": "b1076dfc-b9ad-4769-8c92-a6c4dae69d19",
    "_uuid": "8f2839f25d086af736a60e9eeb907d3b93b6e0e5",
    "execution": {
     "iopub.execute_input": "2024-01-28T08:19:49.149222Z",
     "iopub.status.busy": "2024-01-28T08:19:49.148790Z",
     "iopub.status.idle": "2024-01-28T08:19:50.878271Z",
     "shell.execute_reply": "2024-01-28T08:19:50.876983Z"
    },
    "papermill": {
     "duration": 1.746121,
     "end_time": "2024-01-28T08:19:50.881182",
     "exception": false,
     "start_time": "2024-01-28T08:19:49.135061",
     "status": "completed"
    },
    "tags": []
   },
   "outputs": [
    {
     "name": "stdout",
     "output_type": "stream",
     "text": [
      "/kaggle/input/imdb-movie-dataset-dec-2023/imdb_movie_data_2023.csv\n"
     ]
    }
   ],
   "source": [
    "# This Python 3 environment comes with many helpful analytics libraries installed\n",
    "# It is defined by the kaggle/python Docker image: https://github.com/kaggle/docker-python\n",
    "# For example, here's several helpful packages to load\n",
    "\n",
    "import numpy as np # linear algebra\n",
    "import pandas as pd # data processing, CSV file I/O (e.g. pd.read_csv)\n",
    "import matplotlib.pyplot as plt\n",
    "import seaborn as sns\n",
    "import warnings\n",
    "warnings.filterwarnings('ignore')\n",
    "sns.set()\n",
    "\n",
    "# Input data files are available in the read-only \"../input/\" directory\n",
    "# For example, running this (by clicking run or pressing Shift+Enter) will list all files under the input directory\n",
    "\n",
    "import os\n",
    "for dirname, _, filenames in os.walk('/kaggle/input'):\n",
    "    for filename in filenames:\n",
    "        print(os.path.join(dirname, filename))\n",
    "\n",
    "# You can write up to 20GB to the current directory (/kaggle/working/) that gets preserved as output when you create a version using \"Save & Run All\" \n",
    "# You can also write temporary files to /kaggle/temp/, but they won't be saved outside of the current session"
   ]
  },
  {
   "cell_type": "code",
   "execution_count": 2,
   "id": "13e874b8",
   "metadata": {
    "execution": {
     "iopub.execute_input": "2024-01-28T08:19:50.908457Z",
     "iopub.status.busy": "2024-01-28T08:19:50.907333Z",
     "iopub.status.idle": "2024-01-28T08:19:50.979203Z",
     "shell.execute_reply": "2024-01-28T08:19:50.977814Z"
    },
    "papermill": {
     "duration": 0.088455,
     "end_time": "2024-01-28T08:19:50.981884",
     "exception": false,
     "start_time": "2024-01-28T08:19:50.893429",
     "status": "completed"
    },
    "tags": []
   },
   "outputs": [
    {
     "data": {
      "text/html": [
       "<div>\n",
       "<style scoped>\n",
       "    .dataframe tbody tr th:only-of-type {\n",
       "        vertical-align: middle;\n",
       "    }\n",
       "\n",
       "    .dataframe tbody tr th {\n",
       "        vertical-align: top;\n",
       "    }\n",
       "\n",
       "    .dataframe thead th {\n",
       "        text-align: right;\n",
       "    }\n",
       "</style>\n",
       "<table border=\"1\" class=\"dataframe\">\n",
       "  <thead>\n",
       "    <tr style=\"text-align: right;\">\n",
       "      <th></th>\n",
       "      <th>Unnamed: 0</th>\n",
       "      <th>Moive Name</th>\n",
       "      <th>Rating</th>\n",
       "      <th>Votes</th>\n",
       "      <th>Meta Score</th>\n",
       "      <th>Genre</th>\n",
       "      <th>PG Rating</th>\n",
       "      <th>Year</th>\n",
       "      <th>Duration</th>\n",
       "      <th>Cast</th>\n",
       "      <th>Director</th>\n",
       "    </tr>\n",
       "  </thead>\n",
       "  <tbody>\n",
       "    <tr>\n",
       "      <th>0</th>\n",
       "      <td>0</td>\n",
       "      <td>Leave the World Behind</td>\n",
       "      <td>6.5</td>\n",
       "      <td>90000.0</td>\n",
       "      <td>67.0</td>\n",
       "      <td>Drama, Mystery, Thriller</td>\n",
       "      <td>R</td>\n",
       "      <td>2023</td>\n",
       "      <td>2h 18m</td>\n",
       "      <td>Julia Roberts, Mahershala Ali, Ethan Hawke, My...</td>\n",
       "      <td>Sam Esmail</td>\n",
       "    </tr>\n",
       "    <tr>\n",
       "      <th>1</th>\n",
       "      <td>1</td>\n",
       "      <td>Wonka</td>\n",
       "      <td>7.4</td>\n",
       "      <td>24000.0</td>\n",
       "      <td>66.0</td>\n",
       "      <td>Adventure, Comedy, Family</td>\n",
       "      <td>PG</td>\n",
       "      <td>2023</td>\n",
       "      <td>1h 56m</td>\n",
       "      <td>Timothée Chalamet, Gustave Die, Murray McArthu...</td>\n",
       "      <td>Paul King</td>\n",
       "    </tr>\n",
       "    <tr>\n",
       "      <th>2</th>\n",
       "      <td>2</td>\n",
       "      <td>Poor Things</td>\n",
       "      <td>8.5</td>\n",
       "      <td>6700.0</td>\n",
       "      <td>86.0</td>\n",
       "      <td>Comedy, Drama, Romance</td>\n",
       "      <td>R</td>\n",
       "      <td>2023</td>\n",
       "      <td>2h 21m</td>\n",
       "      <td>Emma Stone, Mark Ruffalo, Willem Dafoe, Ramy Y...</td>\n",
       "      <td>Yorgos Lanthimos</td>\n",
       "    </tr>\n",
       "    <tr>\n",
       "      <th>3</th>\n",
       "      <td>3</td>\n",
       "      <td>Killers of the Flower Moon</td>\n",
       "      <td>7.8</td>\n",
       "      <td>128000.0</td>\n",
       "      <td>89.0</td>\n",
       "      <td>Crime, Drama, History</td>\n",
       "      <td>R</td>\n",
       "      <td>2023</td>\n",
       "      <td>3h 26m</td>\n",
       "      <td>Leonardo DiCaprio, Robert De Niro, Lily Gladst...</td>\n",
       "      <td>Martin Scorsese</td>\n",
       "    </tr>\n",
       "    <tr>\n",
       "      <th>4</th>\n",
       "      <td>4</td>\n",
       "      <td>May December</td>\n",
       "      <td>7.0</td>\n",
       "      <td>21000.0</td>\n",
       "      <td>85.0</td>\n",
       "      <td>Comedy, Drama</td>\n",
       "      <td>R</td>\n",
       "      <td>2023</td>\n",
       "      <td>1h 57m</td>\n",
       "      <td>Natalie Portman, Chris Tenzis, Charles Melton,...</td>\n",
       "      <td>Todd Haynes</td>\n",
       "    </tr>\n",
       "  </tbody>\n",
       "</table>\n",
       "</div>"
      ],
      "text/plain": [
       "   Unnamed: 0                   Moive Name  Rating     Votes  Meta Score  \\\n",
       "0           0       Leave the World Behind     6.5   90000.0        67.0   \n",
       "1           1                        Wonka     7.4   24000.0        66.0   \n",
       "2           2                  Poor Things     8.5    6700.0        86.0   \n",
       "3           3   Killers of the Flower Moon     7.8  128000.0        89.0   \n",
       "4           4                 May December     7.0   21000.0        85.0   \n",
       "\n",
       "                       Genre PG Rating  Year Duration  \\\n",
       "0   Drama, Mystery, Thriller         R  2023   2h 18m   \n",
       "1  Adventure, Comedy, Family        PG  2023   1h 56m   \n",
       "2     Comedy, Drama, Romance         R  2023   2h 21m   \n",
       "3      Crime, Drama, History         R  2023   3h 26m   \n",
       "4              Comedy, Drama         R  2023   1h 57m   \n",
       "\n",
       "                                                Cast          Director  \n",
       "0  Julia Roberts, Mahershala Ali, Ethan Hawke, My...        Sam Esmail  \n",
       "1  Timothée Chalamet, Gustave Die, Murray McArthu...         Paul King  \n",
       "2  Emma Stone, Mark Ruffalo, Willem Dafoe, Ramy Y...  Yorgos Lanthimos  \n",
       "3  Leonardo DiCaprio, Robert De Niro, Lily Gladst...   Martin Scorsese  \n",
       "4  Natalie Portman, Chris Tenzis, Charles Melton,...       Todd Haynes  "
      ]
     },
     "execution_count": 2,
     "metadata": {},
     "output_type": "execute_result"
    }
   ],
   "source": [
    "df = pd.read_csv(\"/kaggle/input/imdb-movie-dataset-dec-2023/imdb_movie_data_2023.csv\")\n",
    "df.head()"
   ]
  },
  {
   "cell_type": "markdown",
   "id": "ba5cd274",
   "metadata": {
    "papermill": {
     "duration": 0.013731,
     "end_time": "2024-01-28T08:19:51.008066",
     "exception": false,
     "start_time": "2024-01-28T08:19:50.994335",
     "status": "completed"
    },
    "tags": []
   },
   "source": [
    "## Standardization"
   ]
  },
  {
   "cell_type": "markdown",
   "id": "211da76a",
   "metadata": {
    "papermill": {
     "duration": 0.01185,
     "end_time": "2024-01-28T08:19:51.032500",
     "exception": false,
     "start_time": "2024-01-28T08:19:51.020650",
     "status": "completed"
    },
    "tags": []
   },
   "source": [
    "Removing **\"Unnamed\"** column."
   ]
  },
  {
   "cell_type": "code",
   "execution_count": 3,
   "id": "00ed9afe",
   "metadata": {
    "execution": {
     "iopub.execute_input": "2024-01-28T08:19:51.059002Z",
     "iopub.status.busy": "2024-01-28T08:19:51.058195Z",
     "iopub.status.idle": "2024-01-28T08:19:51.089856Z",
     "shell.execute_reply": "2024-01-28T08:19:51.088431Z"
    },
    "papermill": {
     "duration": 0.048237,
     "end_time": "2024-01-28T08:19:51.092616",
     "exception": false,
     "start_time": "2024-01-28T08:19:51.044379",
     "status": "completed"
    },
    "tags": []
   },
   "outputs": [
    {
     "data": {
      "text/html": [
       "<div>\n",
       "<style scoped>\n",
       "    .dataframe tbody tr th:only-of-type {\n",
       "        vertical-align: middle;\n",
       "    }\n",
       "\n",
       "    .dataframe tbody tr th {\n",
       "        vertical-align: top;\n",
       "    }\n",
       "\n",
       "    .dataframe thead th {\n",
       "        text-align: right;\n",
       "    }\n",
       "</style>\n",
       "<table border=\"1\" class=\"dataframe\">\n",
       "  <thead>\n",
       "    <tr style=\"text-align: right;\">\n",
       "      <th></th>\n",
       "      <th>Moive Name</th>\n",
       "      <th>Rating</th>\n",
       "      <th>Votes</th>\n",
       "      <th>Meta Score</th>\n",
       "      <th>Genre</th>\n",
       "      <th>PG Rating</th>\n",
       "      <th>Year</th>\n",
       "      <th>Duration</th>\n",
       "      <th>Cast</th>\n",
       "      <th>Director</th>\n",
       "    </tr>\n",
       "  </thead>\n",
       "  <tbody>\n",
       "    <tr>\n",
       "      <th>0</th>\n",
       "      <td>Leave the World Behind</td>\n",
       "      <td>6.5</td>\n",
       "      <td>90000.0</td>\n",
       "      <td>67.0</td>\n",
       "      <td>Drama, Mystery, Thriller</td>\n",
       "      <td>R</td>\n",
       "      <td>2023</td>\n",
       "      <td>2h 18m</td>\n",
       "      <td>Julia Roberts, Mahershala Ali, Ethan Hawke, My...</td>\n",
       "      <td>Sam Esmail</td>\n",
       "    </tr>\n",
       "    <tr>\n",
       "      <th>1</th>\n",
       "      <td>Wonka</td>\n",
       "      <td>7.4</td>\n",
       "      <td>24000.0</td>\n",
       "      <td>66.0</td>\n",
       "      <td>Adventure, Comedy, Family</td>\n",
       "      <td>PG</td>\n",
       "      <td>2023</td>\n",
       "      <td>1h 56m</td>\n",
       "      <td>Timothée Chalamet, Gustave Die, Murray McArthu...</td>\n",
       "      <td>Paul King</td>\n",
       "    </tr>\n",
       "    <tr>\n",
       "      <th>2</th>\n",
       "      <td>Poor Things</td>\n",
       "      <td>8.5</td>\n",
       "      <td>6700.0</td>\n",
       "      <td>86.0</td>\n",
       "      <td>Comedy, Drama, Romance</td>\n",
       "      <td>R</td>\n",
       "      <td>2023</td>\n",
       "      <td>2h 21m</td>\n",
       "      <td>Emma Stone, Mark Ruffalo, Willem Dafoe, Ramy Y...</td>\n",
       "      <td>Yorgos Lanthimos</td>\n",
       "    </tr>\n",
       "    <tr>\n",
       "      <th>3</th>\n",
       "      <td>Killers of the Flower Moon</td>\n",
       "      <td>7.8</td>\n",
       "      <td>128000.0</td>\n",
       "      <td>89.0</td>\n",
       "      <td>Crime, Drama, History</td>\n",
       "      <td>R</td>\n",
       "      <td>2023</td>\n",
       "      <td>3h 26m</td>\n",
       "      <td>Leonardo DiCaprio, Robert De Niro, Lily Gladst...</td>\n",
       "      <td>Martin Scorsese</td>\n",
       "    </tr>\n",
       "    <tr>\n",
       "      <th>4</th>\n",
       "      <td>May December</td>\n",
       "      <td>7.0</td>\n",
       "      <td>21000.0</td>\n",
       "      <td>85.0</td>\n",
       "      <td>Comedy, Drama</td>\n",
       "      <td>R</td>\n",
       "      <td>2023</td>\n",
       "      <td>1h 57m</td>\n",
       "      <td>Natalie Portman, Chris Tenzis, Charles Melton,...</td>\n",
       "      <td>Todd Haynes</td>\n",
       "    </tr>\n",
       "  </tbody>\n",
       "</table>\n",
       "</div>"
      ],
      "text/plain": [
       "                    Moive Name  Rating     Votes  Meta Score  \\\n",
       "0       Leave the World Behind     6.5   90000.0        67.0   \n",
       "1                        Wonka     7.4   24000.0        66.0   \n",
       "2                  Poor Things     8.5    6700.0        86.0   \n",
       "3   Killers of the Flower Moon     7.8  128000.0        89.0   \n",
       "4                 May December     7.0   21000.0        85.0   \n",
       "\n",
       "                       Genre PG Rating  Year Duration  \\\n",
       "0   Drama, Mystery, Thriller         R  2023   2h 18m   \n",
       "1  Adventure, Comedy, Family        PG  2023   1h 56m   \n",
       "2     Comedy, Drama, Romance         R  2023   2h 21m   \n",
       "3      Crime, Drama, History         R  2023   3h 26m   \n",
       "4              Comedy, Drama         R  2023   1h 57m   \n",
       "\n",
       "                                                Cast          Director  \n",
       "0  Julia Roberts, Mahershala Ali, Ethan Hawke, My...        Sam Esmail  \n",
       "1  Timothée Chalamet, Gustave Die, Murray McArthu...         Paul King  \n",
       "2  Emma Stone, Mark Ruffalo, Willem Dafoe, Ramy Y...  Yorgos Lanthimos  \n",
       "3  Leonardo DiCaprio, Robert De Niro, Lily Gladst...   Martin Scorsese  \n",
       "4  Natalie Portman, Chris Tenzis, Charles Melton,...       Todd Haynes  "
      ]
     },
     "execution_count": 3,
     "metadata": {},
     "output_type": "execute_result"
    }
   ],
   "source": [
    "file_path = '/kaggle/input/imdb-movie-dataset-dec-2023/imdb_movie_data_2023.csv'\n",
    "columns_to_exclude = ['Unnamed: 0']\n",
    "all_columns = pd.read_csv(file_path, nrows=0).columns.tolist()\n",
    "columns_to_include = [col for col in all_columns if col not in columns_to_exclude]\n",
    "df = pd.read_csv(file_path, usecols=columns_to_include)\n",
    "df.head()\n"
   ]
  },
  {
   "cell_type": "markdown",
   "id": "ddbbacd8",
   "metadata": {
    "papermill": {
     "duration": 0.012534,
     "end_time": "2024-01-28T08:19:51.118215",
     "exception": false,
     "start_time": "2024-01-28T08:19:51.105681",
     "status": "completed"
    },
    "tags": []
   },
   "source": [
    "Changing the name of first column from **\"Moive Name\"** to **\"Movie Name\"**"
   ]
  },
  {
   "cell_type": "code",
   "execution_count": 4,
   "id": "90fe092a",
   "metadata": {
    "execution": {
     "iopub.execute_input": "2024-01-28T08:19:51.146777Z",
     "iopub.status.busy": "2024-01-28T08:19:51.145977Z",
     "iopub.status.idle": "2024-01-28T08:19:51.165115Z",
     "shell.execute_reply": "2024-01-28T08:19:51.164087Z"
    },
    "papermill": {
     "duration": 0.035858,
     "end_time": "2024-01-28T08:19:51.167166",
     "exception": false,
     "start_time": "2024-01-28T08:19:51.131308",
     "status": "completed"
    },
    "tags": []
   },
   "outputs": [
    {
     "data": {
      "text/html": [
       "<div>\n",
       "<style scoped>\n",
       "    .dataframe tbody tr th:only-of-type {\n",
       "        vertical-align: middle;\n",
       "    }\n",
       "\n",
       "    .dataframe tbody tr th {\n",
       "        vertical-align: top;\n",
       "    }\n",
       "\n",
       "    .dataframe thead th {\n",
       "        text-align: right;\n",
       "    }\n",
       "</style>\n",
       "<table border=\"1\" class=\"dataframe\">\n",
       "  <thead>\n",
       "    <tr style=\"text-align: right;\">\n",
       "      <th></th>\n",
       "      <th>Movie Name</th>\n",
       "      <th>Rating</th>\n",
       "      <th>Votes</th>\n",
       "      <th>Meta Score</th>\n",
       "      <th>Genre</th>\n",
       "      <th>PG Rating</th>\n",
       "      <th>Year</th>\n",
       "      <th>Duration</th>\n",
       "      <th>Cast</th>\n",
       "      <th>Director</th>\n",
       "    </tr>\n",
       "  </thead>\n",
       "  <tbody>\n",
       "    <tr>\n",
       "      <th>0</th>\n",
       "      <td>Leave the World Behind</td>\n",
       "      <td>6.5</td>\n",
       "      <td>90000.0</td>\n",
       "      <td>67.0</td>\n",
       "      <td>Drama, Mystery, Thriller</td>\n",
       "      <td>R</td>\n",
       "      <td>2023</td>\n",
       "      <td>2h 18m</td>\n",
       "      <td>Julia Roberts, Mahershala Ali, Ethan Hawke, My...</td>\n",
       "      <td>Sam Esmail</td>\n",
       "    </tr>\n",
       "    <tr>\n",
       "      <th>1</th>\n",
       "      <td>Wonka</td>\n",
       "      <td>7.4</td>\n",
       "      <td>24000.0</td>\n",
       "      <td>66.0</td>\n",
       "      <td>Adventure, Comedy, Family</td>\n",
       "      <td>PG</td>\n",
       "      <td>2023</td>\n",
       "      <td>1h 56m</td>\n",
       "      <td>Timothée Chalamet, Gustave Die, Murray McArthu...</td>\n",
       "      <td>Paul King</td>\n",
       "    </tr>\n",
       "    <tr>\n",
       "      <th>2</th>\n",
       "      <td>Poor Things</td>\n",
       "      <td>8.5</td>\n",
       "      <td>6700.0</td>\n",
       "      <td>86.0</td>\n",
       "      <td>Comedy, Drama, Romance</td>\n",
       "      <td>R</td>\n",
       "      <td>2023</td>\n",
       "      <td>2h 21m</td>\n",
       "      <td>Emma Stone, Mark Ruffalo, Willem Dafoe, Ramy Y...</td>\n",
       "      <td>Yorgos Lanthimos</td>\n",
       "    </tr>\n",
       "    <tr>\n",
       "      <th>3</th>\n",
       "      <td>Killers of the Flower Moon</td>\n",
       "      <td>7.8</td>\n",
       "      <td>128000.0</td>\n",
       "      <td>89.0</td>\n",
       "      <td>Crime, Drama, History</td>\n",
       "      <td>R</td>\n",
       "      <td>2023</td>\n",
       "      <td>3h 26m</td>\n",
       "      <td>Leonardo DiCaprio, Robert De Niro, Lily Gladst...</td>\n",
       "      <td>Martin Scorsese</td>\n",
       "    </tr>\n",
       "    <tr>\n",
       "      <th>4</th>\n",
       "      <td>May December</td>\n",
       "      <td>7.0</td>\n",
       "      <td>21000.0</td>\n",
       "      <td>85.0</td>\n",
       "      <td>Comedy, Drama</td>\n",
       "      <td>R</td>\n",
       "      <td>2023</td>\n",
       "      <td>1h 57m</td>\n",
       "      <td>Natalie Portman, Chris Tenzis, Charles Melton,...</td>\n",
       "      <td>Todd Haynes</td>\n",
       "    </tr>\n",
       "  </tbody>\n",
       "</table>\n",
       "</div>"
      ],
      "text/plain": [
       "                    Movie Name  Rating     Votes  Meta Score  \\\n",
       "0       Leave the World Behind     6.5   90000.0        67.0   \n",
       "1                        Wonka     7.4   24000.0        66.0   \n",
       "2                  Poor Things     8.5    6700.0        86.0   \n",
       "3   Killers of the Flower Moon     7.8  128000.0        89.0   \n",
       "4                 May December     7.0   21000.0        85.0   \n",
       "\n",
       "                       Genre PG Rating  Year Duration  \\\n",
       "0   Drama, Mystery, Thriller         R  2023   2h 18m   \n",
       "1  Adventure, Comedy, Family        PG  2023   1h 56m   \n",
       "2     Comedy, Drama, Romance         R  2023   2h 21m   \n",
       "3      Crime, Drama, History         R  2023   3h 26m   \n",
       "4              Comedy, Drama         R  2023   1h 57m   \n",
       "\n",
       "                                                Cast          Director  \n",
       "0  Julia Roberts, Mahershala Ali, Ethan Hawke, My...        Sam Esmail  \n",
       "1  Timothée Chalamet, Gustave Die, Murray McArthu...         Paul King  \n",
       "2  Emma Stone, Mark Ruffalo, Willem Dafoe, Ramy Y...  Yorgos Lanthimos  \n",
       "3  Leonardo DiCaprio, Robert De Niro, Lily Gladst...   Martin Scorsese  \n",
       "4  Natalie Portman, Chris Tenzis, Charles Melton,...       Todd Haynes  "
      ]
     },
     "execution_count": 4,
     "metadata": {},
     "output_type": "execute_result"
    }
   ],
   "source": [
    "df.rename(columns={\"Moive Name\": \"Movie Name\"},inplace = True)\n",
    "df.head()"
   ]
  },
  {
   "cell_type": "markdown",
   "id": "fcbfbfdf",
   "metadata": {
    "papermill": {
     "duration": 0.012532,
     "end_time": "2024-01-28T08:19:51.192591",
     "exception": false,
     "start_time": "2024-01-28T08:19:51.180059",
     "status": "completed"
    },
    "tags": []
   },
   "source": [
    "# Reading and Inspecting Data"
   ]
  },
  {
   "cell_type": "markdown",
   "id": "245d4c0b",
   "metadata": {
    "papermill": {
     "duration": 0.012519,
     "end_time": "2024-01-28T08:19:51.217982",
     "exception": false,
     "start_time": "2024-01-28T08:19:51.205463",
     "status": "completed"
    },
    "tags": []
   },
   "source": [
    "The dataset consists of the following columns:\n",
    "- **Movie Name**: Contains names of the top IMDB movies updated till 15-Dec 2023.\n",
    "- **Rating**: Contains the IMDB rating.\n",
    "- **Votes**: Contains the number of votes the movie got.\n",
    "- **Meta Score**: Gives the meta score of each movie.\n",
    "- **Genre**: Categorizes various movies based on their genre.\n",
    "- **PG Rating**: Gives the PG rating of the movies.\n",
    "- **Year**: Gives the year in which each movie was released.\n",
    "- **Duration**: Gives the duration of the movie.\n",
    "- **Cast**: Contains the cast of each movie.\n",
    "- **Director**: Contains the name of the director of each movie."
   ]
  },
  {
   "cell_type": "code",
   "execution_count": 5,
   "id": "e6b9b983",
   "metadata": {
    "execution": {
     "iopub.execute_input": "2024-01-28T08:19:51.332380Z",
     "iopub.status.busy": "2024-01-28T08:19:51.331905Z",
     "iopub.status.idle": "2024-01-28T08:19:51.340132Z",
     "shell.execute_reply": "2024-01-28T08:19:51.338057Z"
    },
    "papermill": {
     "duration": 0.025332,
     "end_time": "2024-01-28T08:19:51.342201",
     "exception": false,
     "start_time": "2024-01-28T08:19:51.316869",
     "status": "completed"
    },
    "tags": []
   },
   "outputs": [
    {
     "name": "stdout",
     "output_type": "stream",
     "text": [
      "Dataset has 1950 rows and 10 columns\n"
     ]
    }
   ],
   "source": [
    "print(f'Dataset has {df.shape[0]} rows and {df.shape[1]} columns')"
   ]
  },
  {
   "cell_type": "code",
   "execution_count": 6,
   "id": "386d7be8",
   "metadata": {
    "execution": {
     "iopub.execute_input": "2024-01-28T08:19:51.370842Z",
     "iopub.status.busy": "2024-01-28T08:19:51.370198Z",
     "iopub.status.idle": "2024-01-28T08:19:51.499551Z",
     "shell.execute_reply": "2024-01-28T08:19:51.498569Z"
    },
    "papermill": {
     "duration": 0.146889,
     "end_time": "2024-01-28T08:19:51.502398",
     "exception": false,
     "start_time": "2024-01-28T08:19:51.355509",
     "status": "completed"
    },
    "tags": []
   },
   "outputs": [
    {
     "name": "stdout",
     "output_type": "stream",
     "text": [
      "<class 'pandas.core.frame.DataFrame'>\n",
      "RangeIndex: 1950 entries, 0 to 1949\n",
      "Data columns (total 10 columns):\n",
      " #   Column      Non-Null Count  Dtype  \n",
      "---  ------      --------------  -----  \n",
      " 0   Movie Name  1950 non-null   object \n",
      " 1   Rating      1944 non-null   float64\n",
      " 2   Votes       1944 non-null   float64\n",
      " 3   Meta Score  1833 non-null   float64\n",
      " 4   Genre       1833 non-null   object \n",
      " 5   PG Rating   1874 non-null   object \n",
      " 6   Year        1950 non-null   int64  \n",
      " 7   Duration    1948 non-null   object \n",
      " 8   Cast        1833 non-null   object \n",
      " 9   Director    1833 non-null   object \n",
      "dtypes: float64(3), int64(1), object(6)\n",
      "memory usage: 152.5+ KB\n"
     ]
    }
   ],
   "source": [
    "df.info()"
   ]
  },
  {
   "cell_type": "code",
   "execution_count": 7,
   "id": "381279b2",
   "metadata": {
    "execution": {
     "iopub.execute_input": "2024-01-28T08:19:51.530949Z",
     "iopub.status.busy": "2024-01-28T08:19:51.530498Z",
     "iopub.status.idle": "2024-01-28T08:19:51.538024Z",
     "shell.execute_reply": "2024-01-28T08:19:51.537160Z"
    },
    "papermill": {
     "duration": 0.024319,
     "end_time": "2024-01-28T08:19:51.540101",
     "exception": false,
     "start_time": "2024-01-28T08:19:51.515782",
     "status": "completed"
    },
    "tags": []
   },
   "outputs": [
    {
     "data": {
      "text/plain": [
       "0     2023\n",
       "1     2023\n",
       "2     2023\n",
       "3     2023\n",
       "4     2023\n",
       "5     2023\n",
       "6     2023\n",
       "7     2023\n",
       "8     2003\n",
       "9     2023\n",
       "10    2023\n",
       "11    2023\n",
       "12    1989\n",
       "13    2023\n",
       "14    2023\n",
       "15    2023\n",
       "16    2023\n",
       "17    2023\n",
       "18    2003\n",
       "19    2000\n",
       "Name: Year, dtype: int64"
      ]
     },
     "execution_count": 7,
     "metadata": {},
     "output_type": "execute_result"
    }
   ],
   "source": [
    "df[\"Year\"].head(20)"
   ]
  },
  {
   "cell_type": "code",
   "execution_count": 8,
   "id": "90e7c06a",
   "metadata": {
    "execution": {
     "iopub.execute_input": "2024-01-28T08:19:51.569430Z",
     "iopub.status.busy": "2024-01-28T08:19:51.568798Z",
     "iopub.status.idle": "2024-01-28T08:19:51.577405Z",
     "shell.execute_reply": "2024-01-28T08:19:51.576290Z"
    },
    "papermill": {
     "duration": 0.026115,
     "end_time": "2024-01-28T08:19:51.579443",
     "exception": false,
     "start_time": "2024-01-28T08:19:51.553328",
     "status": "completed"
    },
    "tags": []
   },
   "outputs": [
    {
     "data": {
      "text/plain": [
       "0       2h 18m\n",
       "1       1h 56m\n",
       "2       2h 21m\n",
       "3       3h 26m\n",
       "4       1h 57m\n",
       "         ...  \n",
       "1945    1h 52m\n",
       "1946    1h 36m\n",
       "1947    1h 44m\n",
       "1948    1h 47m\n",
       "1949    1h 55m\n",
       "Name: Duration, Length: 1950, dtype: object"
      ]
     },
     "execution_count": 8,
     "metadata": {},
     "output_type": "execute_result"
    }
   ],
   "source": [
    "df['Duration']"
   ]
  },
  {
   "cell_type": "code",
   "execution_count": 9,
   "id": "ba75fbe6",
   "metadata": {
    "execution": {
     "iopub.execute_input": "2024-01-28T08:19:51.607274Z",
     "iopub.status.busy": "2024-01-28T08:19:51.606473Z",
     "iopub.status.idle": "2024-01-28T08:19:51.614013Z",
     "shell.execute_reply": "2024-01-28T08:19:51.613146Z"
    },
    "papermill": {
     "duration": 0.024418,
     "end_time": "2024-01-28T08:19:51.616850",
     "exception": false,
     "start_time": "2024-01-28T08:19:51.592432",
     "status": "completed"
    },
    "tags": []
   },
   "outputs": [
    {
     "data": {
      "text/plain": [
       "0       6.5\n",
       "1       7.4\n",
       "2       8.5\n",
       "3       7.8\n",
       "4       7.0\n",
       "       ... \n",
       "1945    7.1\n",
       "1946    7.6\n",
       "1947    6.5\n",
       "1948    6.4\n",
       "1949    7.1\n",
       "Name: Rating, Length: 1950, dtype: float64"
      ]
     },
     "execution_count": 9,
     "metadata": {},
     "output_type": "execute_result"
    }
   ],
   "source": [
    "df['Rating']"
   ]
  },
  {
   "cell_type": "markdown",
   "id": "47c72c92",
   "metadata": {
    "papermill": {
     "duration": 0.013529,
     "end_time": "2024-01-28T08:19:51.644556",
     "exception": false,
     "start_time": "2024-01-28T08:19:51.631027",
     "status": "completed"
    },
    "tags": []
   },
   "source": [
    "# Data Cleaning"
   ]
  },
  {
   "cell_type": "markdown",
   "id": "3b2757e6",
   "metadata": {
    "papermill": {
     "duration": 0.013384,
     "end_time": "2024-01-28T08:19:51.671867",
     "exception": false,
     "start_time": "2024-01-28T08:19:51.658483",
     "status": "completed"
    },
    "tags": []
   },
   "source": [
    "## Handling missing values"
   ]
  },
  {
   "cell_type": "code",
   "execution_count": 10,
   "id": "740ee3b7",
   "metadata": {
    "execution": {
     "iopub.execute_input": "2024-01-28T08:19:51.701500Z",
     "iopub.status.busy": "2024-01-28T08:19:51.701083Z",
     "iopub.status.idle": "2024-01-28T08:19:51.711522Z",
     "shell.execute_reply": "2024-01-28T08:19:51.710329Z"
    },
    "papermill": {
     "duration": 0.027969,
     "end_time": "2024-01-28T08:19:51.713800",
     "exception": false,
     "start_time": "2024-01-28T08:19:51.685831",
     "status": "completed"
    },
    "tags": []
   },
   "outputs": [
    {
     "data": {
      "text/plain": [
       "Movie Name    0.000000\n",
       "Rating        0.307692\n",
       "Votes         0.307692\n",
       "Meta Score    6.000000\n",
       "Genre         6.000000\n",
       "PG Rating     3.897436\n",
       "Year          0.000000\n",
       "Duration      0.102564\n",
       "Cast          6.000000\n",
       "Director      6.000000\n",
       "dtype: float64"
      ]
     },
     "execution_count": 10,
     "metadata": {},
     "output_type": "execute_result"
    }
   ],
   "source": [
    "df.isnull().mean()*100"
   ]
  },
  {
   "cell_type": "markdown",
   "id": "dc4bc364",
   "metadata": {
    "papermill": {
     "duration": 0.013697,
     "end_time": "2024-01-28T08:19:51.741507",
     "exception": false,
     "start_time": "2024-01-28T08:19:51.727810",
     "status": "completed"
    },
    "tags": []
   },
   "source": [
    "### Handling missing values in \"Meta Score\" column"
   ]
  },
  {
   "cell_type": "code",
   "execution_count": 11,
   "id": "015fe6a3",
   "metadata": {
    "execution": {
     "iopub.execute_input": "2024-01-28T08:19:51.770988Z",
     "iopub.status.busy": "2024-01-28T08:19:51.770576Z",
     "iopub.status.idle": "2024-01-28T08:19:51.793693Z",
     "shell.execute_reply": "2024-01-28T08:19:51.792846Z"
    },
    "papermill": {
     "duration": 0.040469,
     "end_time": "2024-01-28T08:19:51.795940",
     "exception": false,
     "start_time": "2024-01-28T08:19:51.755471",
     "status": "completed"
    },
    "tags": []
   },
   "outputs": [
    {
     "data": {
      "text/html": [
       "<div>\n",
       "<style scoped>\n",
       "    .dataframe tbody tr th:only-of-type {\n",
       "        vertical-align: middle;\n",
       "    }\n",
       "\n",
       "    .dataframe tbody tr th {\n",
       "        vertical-align: top;\n",
       "    }\n",
       "\n",
       "    .dataframe thead th {\n",
       "        text-align: right;\n",
       "    }\n",
       "</style>\n",
       "<table border=\"1\" class=\"dataframe\">\n",
       "  <thead>\n",
       "    <tr style=\"text-align: right;\">\n",
       "      <th></th>\n",
       "      <th>Movie Name</th>\n",
       "      <th>Rating</th>\n",
       "      <th>Votes</th>\n",
       "      <th>Meta Score</th>\n",
       "      <th>Genre</th>\n",
       "      <th>PG Rating</th>\n",
       "      <th>Year</th>\n",
       "      <th>Duration</th>\n",
       "      <th>Cast</th>\n",
       "      <th>Director</th>\n",
       "    </tr>\n",
       "  </thead>\n",
       "  <tbody>\n",
       "    <tr>\n",
       "      <th>39</th>\n",
       "      <td>The Shift</td>\n",
       "      <td>6.4</td>\n",
       "      <td>2400.0</td>\n",
       "      <td>NaN</td>\n",
       "      <td>NaN</td>\n",
       "      <td>PG-13</td>\n",
       "      <td>2023</td>\n",
       "      <td>1h 55m</td>\n",
       "      <td>NaN</td>\n",
       "      <td>NaN</td>\n",
       "    </tr>\n",
       "    <tr>\n",
       "      <th>41</th>\n",
       "      <td>Christmas on Cherry Lane</td>\n",
       "      <td>6.2</td>\n",
       "      <td>689.0</td>\n",
       "      <td>NaN</td>\n",
       "      <td>NaN</td>\n",
       "      <td>TV-G</td>\n",
       "      <td>2023</td>\n",
       "      <td>1h 30m</td>\n",
       "      <td>NaN</td>\n",
       "      <td>NaN</td>\n",
       "    </tr>\n",
       "    <tr>\n",
       "      <th>56</th>\n",
       "      <td>Lady Ballers</td>\n",
       "      <td>6.2</td>\n",
       "      <td>9200.0</td>\n",
       "      <td>NaN</td>\n",
       "      <td>NaN</td>\n",
       "      <td>TV-14</td>\n",
       "      <td>2023</td>\n",
       "      <td>1h 52m</td>\n",
       "      <td>NaN</td>\n",
       "      <td>NaN</td>\n",
       "    </tr>\n",
       "    <tr>\n",
       "      <th>66</th>\n",
       "      <td>Miracle on 34th Street</td>\n",
       "      <td>6.6</td>\n",
       "      <td>42000.0</td>\n",
       "      <td>NaN</td>\n",
       "      <td>NaN</td>\n",
       "      <td>PG</td>\n",
       "      <td>1994</td>\n",
       "      <td>1h 54m</td>\n",
       "      <td>NaN</td>\n",
       "      <td>NaN</td>\n",
       "    </tr>\n",
       "    <tr>\n",
       "      <th>77</th>\n",
       "      <td>Migration</td>\n",
       "      <td>7.1</td>\n",
       "      <td>848.0</td>\n",
       "      <td>NaN</td>\n",
       "      <td>NaN</td>\n",
       "      <td>PG</td>\n",
       "      <td>2023</td>\n",
       "      <td>1h 32m</td>\n",
       "      <td>NaN</td>\n",
       "      <td>NaN</td>\n",
       "    </tr>\n",
       "    <tr>\n",
       "      <th>...</th>\n",
       "      <td>...</td>\n",
       "      <td>...</td>\n",
       "      <td>...</td>\n",
       "      <td>...</td>\n",
       "      <td>...</td>\n",
       "      <td>...</td>\n",
       "      <td>...</td>\n",
       "      <td>...</td>\n",
       "      <td>...</td>\n",
       "      <td>...</td>\n",
       "    </tr>\n",
       "    <tr>\n",
       "      <th>1916</th>\n",
       "      <td>The Titfield Thunderbolt</td>\n",
       "      <td>7.0</td>\n",
       "      <td>3200.0</td>\n",
       "      <td>NaN</td>\n",
       "      <td>NaN</td>\n",
       "      <td>NaN</td>\n",
       "      <td>1953</td>\n",
       "      <td>1h 24m</td>\n",
       "      <td>NaN</td>\n",
       "      <td>NaN</td>\n",
       "    </tr>\n",
       "    <tr>\n",
       "      <th>1928</th>\n",
       "      <td>Boudica: Queen of War</td>\n",
       "      <td>4.4</td>\n",
       "      <td>1600.0</td>\n",
       "      <td>NaN</td>\n",
       "      <td>NaN</td>\n",
       "      <td>R</td>\n",
       "      <td>2023</td>\n",
       "      <td>1h 41m</td>\n",
       "      <td>NaN</td>\n",
       "      <td>NaN</td>\n",
       "    </tr>\n",
       "    <tr>\n",
       "      <th>1930</th>\n",
       "      <td>Appointment with Death</td>\n",
       "      <td>6.1</td>\n",
       "      <td>5800.0</td>\n",
       "      <td>NaN</td>\n",
       "      <td>NaN</td>\n",
       "      <td>PG</td>\n",
       "      <td>1988</td>\n",
       "      <td>1h 42m</td>\n",
       "      <td>NaN</td>\n",
       "      <td>NaN</td>\n",
       "    </tr>\n",
       "    <tr>\n",
       "      <th>1934</th>\n",
       "      <td>The Night Walker</td>\n",
       "      <td>6.3</td>\n",
       "      <td>2300.0</td>\n",
       "      <td>NaN</td>\n",
       "      <td>NaN</td>\n",
       "      <td>Passed</td>\n",
       "      <td>1964</td>\n",
       "      <td>1h 26m</td>\n",
       "      <td>NaN</td>\n",
       "      <td>NaN</td>\n",
       "    </tr>\n",
       "    <tr>\n",
       "      <th>1948</th>\n",
       "      <td>Little Giants</td>\n",
       "      <td>6.4</td>\n",
       "      <td>30000.0</td>\n",
       "      <td>NaN</td>\n",
       "      <td>NaN</td>\n",
       "      <td>PG</td>\n",
       "      <td>1994</td>\n",
       "      <td>1h 47m</td>\n",
       "      <td>NaN</td>\n",
       "      <td>NaN</td>\n",
       "    </tr>\n",
       "  </tbody>\n",
       "</table>\n",
       "<p>117 rows × 10 columns</p>\n",
       "</div>"
      ],
      "text/plain": [
       "                     Movie Name  Rating    Votes  Meta Score Genre PG Rating  \\\n",
       "39                    The Shift     6.4   2400.0         NaN   NaN     PG-13   \n",
       "41     Christmas on Cherry Lane     6.2    689.0         NaN   NaN      TV-G   \n",
       "56                 Lady Ballers     6.2   9200.0         NaN   NaN     TV-14   \n",
       "66       Miracle on 34th Street     6.6  42000.0         NaN   NaN        PG   \n",
       "77                    Migration     7.1    848.0         NaN   NaN        PG   \n",
       "...                         ...     ...      ...         ...   ...       ...   \n",
       "1916   The Titfield Thunderbolt     7.0   3200.0         NaN   NaN       NaN   \n",
       "1928      Boudica: Queen of War     4.4   1600.0         NaN   NaN         R   \n",
       "1930     Appointment with Death     6.1   5800.0         NaN   NaN        PG   \n",
       "1934           The Night Walker     6.3   2300.0         NaN   NaN    Passed   \n",
       "1948              Little Giants     6.4  30000.0         NaN   NaN        PG   \n",
       "\n",
       "      Year Duration Cast Director  \n",
       "39    2023   1h 55m  NaN      NaN  \n",
       "41    2023   1h 30m  NaN      NaN  \n",
       "56    2023   1h 52m  NaN      NaN  \n",
       "66    1994   1h 54m  NaN      NaN  \n",
       "77    2023   1h 32m  NaN      NaN  \n",
       "...    ...      ...  ...      ...  \n",
       "1916  1953   1h 24m  NaN      NaN  \n",
       "1928  2023   1h 41m  NaN      NaN  \n",
       "1930  1988   1h 42m  NaN      NaN  \n",
       "1934  1964   1h 26m  NaN      NaN  \n",
       "1948  1994   1h 47m  NaN      NaN  \n",
       "\n",
       "[117 rows x 10 columns]"
      ]
     },
     "execution_count": 11,
     "metadata": {},
     "output_type": "execute_result"
    }
   ],
   "source": [
    "df[df[\"Meta Score\"].isnull()]"
   ]
  },
  {
   "cell_type": "code",
   "execution_count": 12,
   "id": "0dce55bc",
   "metadata": {
    "execution": {
     "iopub.execute_input": "2024-01-28T08:19:51.824222Z",
     "iopub.status.busy": "2024-01-28T08:19:51.823625Z",
     "iopub.status.idle": "2024-01-28T08:19:51.831368Z",
     "shell.execute_reply": "2024-01-28T08:19:51.830023Z"
    },
    "papermill": {
     "duration": 0.024412,
     "end_time": "2024-01-28T08:19:51.833562",
     "exception": false,
     "start_time": "2024-01-28T08:19:51.809150",
     "status": "completed"
    },
    "tags": []
   },
   "outputs": [
    {
     "data": {
      "text/plain": [
       "0"
      ]
     },
     "execution_count": 12,
     "metadata": {},
     "output_type": "execute_result"
    }
   ],
   "source": [
    "# -1 = Not known in the Meta Score column\n",
    "df[\"Meta Score\"]=df[\"Meta Score\"].fillna(-1)\n",
    "df[\"Meta Score\"].isnull().sum()"
   ]
  },
  {
   "cell_type": "markdown",
   "id": "98c36540",
   "metadata": {
    "papermill": {
     "duration": 0.013343,
     "end_time": "2024-01-28T08:19:51.860468",
     "exception": false,
     "start_time": "2024-01-28T08:19:51.847125",
     "status": "completed"
    },
    "tags": []
   },
   "source": [
    "### Handling missing values in \"Genre\" column"
   ]
  },
  {
   "cell_type": "code",
   "execution_count": 13,
   "id": "aa3b2b01",
   "metadata": {
    "execution": {
     "iopub.execute_input": "2024-01-28T08:19:51.890477Z",
     "iopub.status.busy": "2024-01-28T08:19:51.890024Z",
     "iopub.status.idle": "2024-01-28T08:19:51.912189Z",
     "shell.execute_reply": "2024-01-28T08:19:51.911246Z"
    },
    "papermill": {
     "duration": 0.039557,
     "end_time": "2024-01-28T08:19:51.914199",
     "exception": false,
     "start_time": "2024-01-28T08:19:51.874642",
     "status": "completed"
    },
    "tags": []
   },
   "outputs": [
    {
     "data": {
      "text/html": [
       "<div>\n",
       "<style scoped>\n",
       "    .dataframe tbody tr th:only-of-type {\n",
       "        vertical-align: middle;\n",
       "    }\n",
       "\n",
       "    .dataframe tbody tr th {\n",
       "        vertical-align: top;\n",
       "    }\n",
       "\n",
       "    .dataframe thead th {\n",
       "        text-align: right;\n",
       "    }\n",
       "</style>\n",
       "<table border=\"1\" class=\"dataframe\">\n",
       "  <thead>\n",
       "    <tr style=\"text-align: right;\">\n",
       "      <th></th>\n",
       "      <th>Movie Name</th>\n",
       "      <th>Rating</th>\n",
       "      <th>Votes</th>\n",
       "      <th>Meta Score</th>\n",
       "      <th>Genre</th>\n",
       "      <th>PG Rating</th>\n",
       "      <th>Year</th>\n",
       "      <th>Duration</th>\n",
       "      <th>Cast</th>\n",
       "      <th>Director</th>\n",
       "    </tr>\n",
       "  </thead>\n",
       "  <tbody>\n",
       "    <tr>\n",
       "      <th>39</th>\n",
       "      <td>The Shift</td>\n",
       "      <td>6.4</td>\n",
       "      <td>2400.0</td>\n",
       "      <td>-1.0</td>\n",
       "      <td>NaN</td>\n",
       "      <td>PG-13</td>\n",
       "      <td>2023</td>\n",
       "      <td>1h 55m</td>\n",
       "      <td>NaN</td>\n",
       "      <td>NaN</td>\n",
       "    </tr>\n",
       "    <tr>\n",
       "      <th>41</th>\n",
       "      <td>Christmas on Cherry Lane</td>\n",
       "      <td>6.2</td>\n",
       "      <td>689.0</td>\n",
       "      <td>-1.0</td>\n",
       "      <td>NaN</td>\n",
       "      <td>TV-G</td>\n",
       "      <td>2023</td>\n",
       "      <td>1h 30m</td>\n",
       "      <td>NaN</td>\n",
       "      <td>NaN</td>\n",
       "    </tr>\n",
       "    <tr>\n",
       "      <th>56</th>\n",
       "      <td>Lady Ballers</td>\n",
       "      <td>6.2</td>\n",
       "      <td>9200.0</td>\n",
       "      <td>-1.0</td>\n",
       "      <td>NaN</td>\n",
       "      <td>TV-14</td>\n",
       "      <td>2023</td>\n",
       "      <td>1h 52m</td>\n",
       "      <td>NaN</td>\n",
       "      <td>NaN</td>\n",
       "    </tr>\n",
       "    <tr>\n",
       "      <th>66</th>\n",
       "      <td>Miracle on 34th Street</td>\n",
       "      <td>6.6</td>\n",
       "      <td>42000.0</td>\n",
       "      <td>-1.0</td>\n",
       "      <td>NaN</td>\n",
       "      <td>PG</td>\n",
       "      <td>1994</td>\n",
       "      <td>1h 54m</td>\n",
       "      <td>NaN</td>\n",
       "      <td>NaN</td>\n",
       "    </tr>\n",
       "    <tr>\n",
       "      <th>77</th>\n",
       "      <td>Migration</td>\n",
       "      <td>7.1</td>\n",
       "      <td>848.0</td>\n",
       "      <td>-1.0</td>\n",
       "      <td>NaN</td>\n",
       "      <td>PG</td>\n",
       "      <td>2023</td>\n",
       "      <td>1h 32m</td>\n",
       "      <td>NaN</td>\n",
       "      <td>NaN</td>\n",
       "    </tr>\n",
       "    <tr>\n",
       "      <th>...</th>\n",
       "      <td>...</td>\n",
       "      <td>...</td>\n",
       "      <td>...</td>\n",
       "      <td>...</td>\n",
       "      <td>...</td>\n",
       "      <td>...</td>\n",
       "      <td>...</td>\n",
       "      <td>...</td>\n",
       "      <td>...</td>\n",
       "      <td>...</td>\n",
       "    </tr>\n",
       "    <tr>\n",
       "      <th>1916</th>\n",
       "      <td>The Titfield Thunderbolt</td>\n",
       "      <td>7.0</td>\n",
       "      <td>3200.0</td>\n",
       "      <td>-1.0</td>\n",
       "      <td>NaN</td>\n",
       "      <td>NaN</td>\n",
       "      <td>1953</td>\n",
       "      <td>1h 24m</td>\n",
       "      <td>NaN</td>\n",
       "      <td>NaN</td>\n",
       "    </tr>\n",
       "    <tr>\n",
       "      <th>1928</th>\n",
       "      <td>Boudica: Queen of War</td>\n",
       "      <td>4.4</td>\n",
       "      <td>1600.0</td>\n",
       "      <td>-1.0</td>\n",
       "      <td>NaN</td>\n",
       "      <td>R</td>\n",
       "      <td>2023</td>\n",
       "      <td>1h 41m</td>\n",
       "      <td>NaN</td>\n",
       "      <td>NaN</td>\n",
       "    </tr>\n",
       "    <tr>\n",
       "      <th>1930</th>\n",
       "      <td>Appointment with Death</td>\n",
       "      <td>6.1</td>\n",
       "      <td>5800.0</td>\n",
       "      <td>-1.0</td>\n",
       "      <td>NaN</td>\n",
       "      <td>PG</td>\n",
       "      <td>1988</td>\n",
       "      <td>1h 42m</td>\n",
       "      <td>NaN</td>\n",
       "      <td>NaN</td>\n",
       "    </tr>\n",
       "    <tr>\n",
       "      <th>1934</th>\n",
       "      <td>The Night Walker</td>\n",
       "      <td>6.3</td>\n",
       "      <td>2300.0</td>\n",
       "      <td>-1.0</td>\n",
       "      <td>NaN</td>\n",
       "      <td>Passed</td>\n",
       "      <td>1964</td>\n",
       "      <td>1h 26m</td>\n",
       "      <td>NaN</td>\n",
       "      <td>NaN</td>\n",
       "    </tr>\n",
       "    <tr>\n",
       "      <th>1948</th>\n",
       "      <td>Little Giants</td>\n",
       "      <td>6.4</td>\n",
       "      <td>30000.0</td>\n",
       "      <td>-1.0</td>\n",
       "      <td>NaN</td>\n",
       "      <td>PG</td>\n",
       "      <td>1994</td>\n",
       "      <td>1h 47m</td>\n",
       "      <td>NaN</td>\n",
       "      <td>NaN</td>\n",
       "    </tr>\n",
       "  </tbody>\n",
       "</table>\n",
       "<p>117 rows × 10 columns</p>\n",
       "</div>"
      ],
      "text/plain": [
       "                     Movie Name  Rating    Votes  Meta Score Genre PG Rating  \\\n",
       "39                    The Shift     6.4   2400.0        -1.0   NaN     PG-13   \n",
       "41     Christmas on Cherry Lane     6.2    689.0        -1.0   NaN      TV-G   \n",
       "56                 Lady Ballers     6.2   9200.0        -1.0   NaN     TV-14   \n",
       "66       Miracle on 34th Street     6.6  42000.0        -1.0   NaN        PG   \n",
       "77                    Migration     7.1    848.0        -1.0   NaN        PG   \n",
       "...                         ...     ...      ...         ...   ...       ...   \n",
       "1916   The Titfield Thunderbolt     7.0   3200.0        -1.0   NaN       NaN   \n",
       "1928      Boudica: Queen of War     4.4   1600.0        -1.0   NaN         R   \n",
       "1930     Appointment with Death     6.1   5800.0        -1.0   NaN        PG   \n",
       "1934           The Night Walker     6.3   2300.0        -1.0   NaN    Passed   \n",
       "1948              Little Giants     6.4  30000.0        -1.0   NaN        PG   \n",
       "\n",
       "      Year Duration Cast Director  \n",
       "39    2023   1h 55m  NaN      NaN  \n",
       "41    2023   1h 30m  NaN      NaN  \n",
       "56    2023   1h 52m  NaN      NaN  \n",
       "66    1994   1h 54m  NaN      NaN  \n",
       "77    2023   1h 32m  NaN      NaN  \n",
       "...    ...      ...  ...      ...  \n",
       "1916  1953   1h 24m  NaN      NaN  \n",
       "1928  2023   1h 41m  NaN      NaN  \n",
       "1930  1988   1h 42m  NaN      NaN  \n",
       "1934  1964   1h 26m  NaN      NaN  \n",
       "1948  1994   1h 47m  NaN      NaN  \n",
       "\n",
       "[117 rows x 10 columns]"
      ]
     },
     "execution_count": 13,
     "metadata": {},
     "output_type": "execute_result"
    }
   ],
   "source": [
    "df[df[\"Genre\"].isnull()]"
   ]
  },
  {
   "cell_type": "code",
   "execution_count": 14,
   "id": "d5dc9c97",
   "metadata": {
    "execution": {
     "iopub.execute_input": "2024-01-28T08:19:51.945285Z",
     "iopub.status.busy": "2024-01-28T08:19:51.944425Z",
     "iopub.status.idle": "2024-01-28T08:19:51.952428Z",
     "shell.execute_reply": "2024-01-28T08:19:51.951524Z"
    },
    "papermill": {
     "duration": 0.02583,
     "end_time": "2024-01-28T08:19:51.954321",
     "exception": false,
     "start_time": "2024-01-28T08:19:51.928491",
     "status": "completed"
    },
    "tags": []
   },
   "outputs": [
    {
     "data": {
      "text/plain": [
       "0"
      ]
     },
     "execution_count": 14,
     "metadata": {},
     "output_type": "execute_result"
    }
   ],
   "source": [
    "df[\"Genre\"]=df[\"Genre\"].fillna(\"Unknown\")\n",
    "df[\"Genre\"].isnull().sum()"
   ]
  },
  {
   "cell_type": "markdown",
   "id": "de9ab749",
   "metadata": {
    "papermill": {
     "duration": 0.014289,
     "end_time": "2024-01-28T08:19:51.982967",
     "exception": false,
     "start_time": "2024-01-28T08:19:51.968678",
     "status": "completed"
    },
    "tags": []
   },
   "source": [
    "### Handling missing values in \"PG Rating\" column"
   ]
  },
  {
   "cell_type": "code",
   "execution_count": 15,
   "id": "19ce834c",
   "metadata": {
    "execution": {
     "iopub.execute_input": "2024-01-28T08:19:52.014551Z",
     "iopub.status.busy": "2024-01-28T08:19:52.013902Z",
     "iopub.status.idle": "2024-01-28T08:19:52.035783Z",
     "shell.execute_reply": "2024-01-28T08:19:52.034486Z"
    },
    "papermill": {
     "duration": 0.040548,
     "end_time": "2024-01-28T08:19:52.037817",
     "exception": false,
     "start_time": "2024-01-28T08:19:51.997269",
     "status": "completed"
    },
    "tags": []
   },
   "outputs": [
    {
     "data": {
      "text/html": [
       "<div>\n",
       "<style scoped>\n",
       "    .dataframe tbody tr th:only-of-type {\n",
       "        vertical-align: middle;\n",
       "    }\n",
       "\n",
       "    .dataframe tbody tr th {\n",
       "        vertical-align: top;\n",
       "    }\n",
       "\n",
       "    .dataframe thead th {\n",
       "        text-align: right;\n",
       "    }\n",
       "</style>\n",
       "<table border=\"1\" class=\"dataframe\">\n",
       "  <thead>\n",
       "    <tr style=\"text-align: right;\">\n",
       "      <th></th>\n",
       "      <th>Movie Name</th>\n",
       "      <th>Rating</th>\n",
       "      <th>Votes</th>\n",
       "      <th>Meta Score</th>\n",
       "      <th>Genre</th>\n",
       "      <th>PG Rating</th>\n",
       "      <th>Year</th>\n",
       "      <th>Duration</th>\n",
       "      <th>Cast</th>\n",
       "      <th>Director</th>\n",
       "    </tr>\n",
       "  </thead>\n",
       "  <tbody>\n",
       "    <tr>\n",
       "      <th>24</th>\n",
       "      <td>Fast Charlie</td>\n",
       "      <td>5.9</td>\n",
       "      <td>3700.0</td>\n",
       "      <td>70.0</td>\n",
       "      <td>Action, Crime, Drama</td>\n",
       "      <td>NaN</td>\n",
       "      <td>2023</td>\n",
       "      <td>1h 30m</td>\n",
       "      <td>Pierce Brosnan, Morena Baccarin, James Caan, G...</td>\n",
       "      <td>Phillip Noyce</td>\n",
       "    </tr>\n",
       "    <tr>\n",
       "      <th>42</th>\n",
       "      <td>White Christmas</td>\n",
       "      <td>7.6</td>\n",
       "      <td>49000.0</td>\n",
       "      <td>56.0</td>\n",
       "      <td>Comedy, Musical, Romance</td>\n",
       "      <td>NaN</td>\n",
       "      <td>1954</td>\n",
       "      <td>2h</td>\n",
       "      <td>Bing Crosby, Danny Kaye, Rosemary Clooney, Ver...</td>\n",
       "      <td>Michael Curtiz</td>\n",
       "    </tr>\n",
       "    <tr>\n",
       "      <th>81</th>\n",
       "      <td>Silver and the Book of Dreams</td>\n",
       "      <td>5.5</td>\n",
       "      <td>1200.0</td>\n",
       "      <td>-1.0</td>\n",
       "      <td>Unknown</td>\n",
       "      <td>NaN</td>\n",
       "      <td>2023</td>\n",
       "      <td>1h 32m</td>\n",
       "      <td>NaN</td>\n",
       "      <td>NaN</td>\n",
       "    </tr>\n",
       "    <tr>\n",
       "      <th>82</th>\n",
       "      <td>Cat Person</td>\n",
       "      <td>6.1</td>\n",
       "      <td>1800.0</td>\n",
       "      <td>48.0</td>\n",
       "      <td>Drama, Thriller</td>\n",
       "      <td>NaN</td>\n",
       "      <td>2023</td>\n",
       "      <td>1h 58m</td>\n",
       "      <td>Emilia Jones, Nicholas Braun, Geraldine Viswan...</td>\n",
       "      <td>Susanna Fogel</td>\n",
       "    </tr>\n",
       "    <tr>\n",
       "      <th>98</th>\n",
       "      <td>Miracle on 34th Street</td>\n",
       "      <td>7.9</td>\n",
       "      <td>53000.0</td>\n",
       "      <td>88.0</td>\n",
       "      <td>Comedy, Drama, Family</td>\n",
       "      <td>NaN</td>\n",
       "      <td>1947</td>\n",
       "      <td>1h 36m</td>\n",
       "      <td>Edmund Gwenn, Maureen O'Hara, John Payne, Gene...</td>\n",
       "      <td>George Seaton</td>\n",
       "    </tr>\n",
       "    <tr>\n",
       "      <th>...</th>\n",
       "      <td>...</td>\n",
       "      <td>...</td>\n",
       "      <td>...</td>\n",
       "      <td>...</td>\n",
       "      <td>...</td>\n",
       "      <td>...</td>\n",
       "      <td>...</td>\n",
       "      <td>...</td>\n",
       "      <td>...</td>\n",
       "      <td>...</td>\n",
       "    </tr>\n",
       "    <tr>\n",
       "      <th>1818</th>\n",
       "      <td>Last Train to Christmas</td>\n",
       "      <td>6.0</td>\n",
       "      <td>3200.0</td>\n",
       "      <td>-1.0</td>\n",
       "      <td>Unknown</td>\n",
       "      <td>NaN</td>\n",
       "      <td>2021</td>\n",
       "      <td>1h 50m</td>\n",
       "      <td>NaN</td>\n",
       "      <td>NaN</td>\n",
       "    </tr>\n",
       "    <tr>\n",
       "      <th>1827</th>\n",
       "      <td>Picture of Beauty</td>\n",
       "      <td>3.4</td>\n",
       "      <td>1600.0</td>\n",
       "      <td>-1.0</td>\n",
       "      <td>Unknown</td>\n",
       "      <td>NaN</td>\n",
       "      <td>2017</td>\n",
       "      <td>1h 10m</td>\n",
       "      <td>NaN</td>\n",
       "      <td>NaN</td>\n",
       "    </tr>\n",
       "    <tr>\n",
       "      <th>1855</th>\n",
       "      <td>The Voyeur</td>\n",
       "      <td>5.5</td>\n",
       "      <td>3800.0</td>\n",
       "      <td>-1.0</td>\n",
       "      <td>Unknown</td>\n",
       "      <td>NaN</td>\n",
       "      <td>1994</td>\n",
       "      <td>1h 38m</td>\n",
       "      <td>NaN</td>\n",
       "      <td>NaN</td>\n",
       "    </tr>\n",
       "    <tr>\n",
       "      <th>1875</th>\n",
       "      <td>The Christmas Classic</td>\n",
       "      <td>5.2</td>\n",
       "      <td>128.0</td>\n",
       "      <td>-1.0</td>\n",
       "      <td>Unknown</td>\n",
       "      <td>NaN</td>\n",
       "      <td>2023</td>\n",
       "      <td>1h 26m</td>\n",
       "      <td>NaN</td>\n",
       "      <td>NaN</td>\n",
       "    </tr>\n",
       "    <tr>\n",
       "      <th>1916</th>\n",
       "      <td>The Titfield Thunderbolt</td>\n",
       "      <td>7.0</td>\n",
       "      <td>3200.0</td>\n",
       "      <td>-1.0</td>\n",
       "      <td>Unknown</td>\n",
       "      <td>NaN</td>\n",
       "      <td>1953</td>\n",
       "      <td>1h 24m</td>\n",
       "      <td>NaN</td>\n",
       "      <td>NaN</td>\n",
       "    </tr>\n",
       "  </tbody>\n",
       "</table>\n",
       "<p>76 rows × 10 columns</p>\n",
       "</div>"
      ],
      "text/plain": [
       "                          Movie Name  Rating    Votes  Meta Score  \\\n",
       "24                      Fast Charlie     5.9   3700.0        70.0   \n",
       "42                   White Christmas     7.6  49000.0        56.0   \n",
       "81     Silver and the Book of Dreams     5.5   1200.0        -1.0   \n",
       "82                        Cat Person     6.1   1800.0        48.0   \n",
       "98            Miracle on 34th Street     7.9  53000.0        88.0   \n",
       "...                              ...     ...      ...         ...   \n",
       "1818         Last Train to Christmas     6.0   3200.0        -1.0   \n",
       "1827               Picture of Beauty     3.4   1600.0        -1.0   \n",
       "1855                      The Voyeur     5.5   3800.0        -1.0   \n",
       "1875           The Christmas Classic     5.2    128.0        -1.0   \n",
       "1916        The Titfield Thunderbolt     7.0   3200.0        -1.0   \n",
       "\n",
       "                         Genre PG Rating  Year Duration  \\\n",
       "24        Action, Crime, Drama       NaN  2023   1h 30m   \n",
       "42    Comedy, Musical, Romance       NaN  1954       2h   \n",
       "81                     Unknown       NaN  2023   1h 32m   \n",
       "82             Drama, Thriller       NaN  2023   1h 58m   \n",
       "98       Comedy, Drama, Family       NaN  1947   1h 36m   \n",
       "...                        ...       ...   ...      ...   \n",
       "1818                   Unknown       NaN  2021   1h 50m   \n",
       "1827                   Unknown       NaN  2017   1h 10m   \n",
       "1855                   Unknown       NaN  1994   1h 38m   \n",
       "1875                   Unknown       NaN  2023   1h 26m   \n",
       "1916                   Unknown       NaN  1953   1h 24m   \n",
       "\n",
       "                                                   Cast        Director  \n",
       "24    Pierce Brosnan, Morena Baccarin, James Caan, G...   Phillip Noyce  \n",
       "42    Bing Crosby, Danny Kaye, Rosemary Clooney, Ver...  Michael Curtiz  \n",
       "81                                                  NaN             NaN  \n",
       "82    Emilia Jones, Nicholas Braun, Geraldine Viswan...   Susanna Fogel  \n",
       "98    Edmund Gwenn, Maureen O'Hara, John Payne, Gene...   George Seaton  \n",
       "...                                                 ...             ...  \n",
       "1818                                                NaN             NaN  \n",
       "1827                                                NaN             NaN  \n",
       "1855                                                NaN             NaN  \n",
       "1875                                                NaN             NaN  \n",
       "1916                                                NaN             NaN  \n",
       "\n",
       "[76 rows x 10 columns]"
      ]
     },
     "execution_count": 15,
     "metadata": {},
     "output_type": "execute_result"
    }
   ],
   "source": [
    "df[df[\"PG Rating\"].isnull()]"
   ]
  },
  {
   "cell_type": "code",
   "execution_count": 16,
   "id": "e7447391",
   "metadata": {
    "execution": {
     "iopub.execute_input": "2024-01-28T08:19:52.069775Z",
     "iopub.status.busy": "2024-01-28T08:19:52.069208Z",
     "iopub.status.idle": "2024-01-28T08:19:52.077698Z",
     "shell.execute_reply": "2024-01-28T08:19:52.076029Z"
    },
    "papermill": {
     "duration": 0.027691,
     "end_time": "2024-01-28T08:19:52.080443",
     "exception": false,
     "start_time": "2024-01-28T08:19:52.052752",
     "status": "completed"
    },
    "tags": []
   },
   "outputs": [
    {
     "data": {
      "text/plain": [
       "0"
      ]
     },
     "execution_count": 16,
     "metadata": {},
     "output_type": "execute_result"
    }
   ],
   "source": [
    "df[\"PG Rating\"]=df[\"PG Rating\"].fillna(-1)\n",
    "df[\"PG Rating\"].isnull().sum()"
   ]
  },
  {
   "cell_type": "markdown",
   "id": "eb30a166",
   "metadata": {
    "papermill": {
     "duration": 0.015111,
     "end_time": "2024-01-28T08:19:52.110960",
     "exception": false,
     "start_time": "2024-01-28T08:19:52.095849",
     "status": "completed"
    },
    "tags": []
   },
   "source": [
    "### Handling missing values in \"Cast\" column"
   ]
  },
  {
   "cell_type": "code",
   "execution_count": 17,
   "id": "e88c04dd",
   "metadata": {
    "execution": {
     "iopub.execute_input": "2024-01-28T08:19:52.143252Z",
     "iopub.status.busy": "2024-01-28T08:19:52.142286Z",
     "iopub.status.idle": "2024-01-28T08:19:52.162099Z",
     "shell.execute_reply": "2024-01-28T08:19:52.161255Z"
    },
    "papermill": {
     "duration": 0.038028,
     "end_time": "2024-01-28T08:19:52.164119",
     "exception": false,
     "start_time": "2024-01-28T08:19:52.126091",
     "status": "completed"
    },
    "tags": []
   },
   "outputs": [
    {
     "data": {
      "text/html": [
       "<div>\n",
       "<style scoped>\n",
       "    .dataframe tbody tr th:only-of-type {\n",
       "        vertical-align: middle;\n",
       "    }\n",
       "\n",
       "    .dataframe tbody tr th {\n",
       "        vertical-align: top;\n",
       "    }\n",
       "\n",
       "    .dataframe thead th {\n",
       "        text-align: right;\n",
       "    }\n",
       "</style>\n",
       "<table border=\"1\" class=\"dataframe\">\n",
       "  <thead>\n",
       "    <tr style=\"text-align: right;\">\n",
       "      <th></th>\n",
       "      <th>Movie Name</th>\n",
       "      <th>Rating</th>\n",
       "      <th>Votes</th>\n",
       "      <th>Meta Score</th>\n",
       "      <th>Genre</th>\n",
       "      <th>PG Rating</th>\n",
       "      <th>Year</th>\n",
       "      <th>Duration</th>\n",
       "      <th>Cast</th>\n",
       "      <th>Director</th>\n",
       "    </tr>\n",
       "  </thead>\n",
       "  <tbody>\n",
       "    <tr>\n",
       "      <th>39</th>\n",
       "      <td>The Shift</td>\n",
       "      <td>6.4</td>\n",
       "      <td>2400.0</td>\n",
       "      <td>-1.0</td>\n",
       "      <td>Unknown</td>\n",
       "      <td>PG-13</td>\n",
       "      <td>2023</td>\n",
       "      <td>1h 55m</td>\n",
       "      <td>NaN</td>\n",
       "      <td>NaN</td>\n",
       "    </tr>\n",
       "    <tr>\n",
       "      <th>41</th>\n",
       "      <td>Christmas on Cherry Lane</td>\n",
       "      <td>6.2</td>\n",
       "      <td>689.0</td>\n",
       "      <td>-1.0</td>\n",
       "      <td>Unknown</td>\n",
       "      <td>TV-G</td>\n",
       "      <td>2023</td>\n",
       "      <td>1h 30m</td>\n",
       "      <td>NaN</td>\n",
       "      <td>NaN</td>\n",
       "    </tr>\n",
       "    <tr>\n",
       "      <th>56</th>\n",
       "      <td>Lady Ballers</td>\n",
       "      <td>6.2</td>\n",
       "      <td>9200.0</td>\n",
       "      <td>-1.0</td>\n",
       "      <td>Unknown</td>\n",
       "      <td>TV-14</td>\n",
       "      <td>2023</td>\n",
       "      <td>1h 52m</td>\n",
       "      <td>NaN</td>\n",
       "      <td>NaN</td>\n",
       "    </tr>\n",
       "    <tr>\n",
       "      <th>66</th>\n",
       "      <td>Miracle on 34th Street</td>\n",
       "      <td>6.6</td>\n",
       "      <td>42000.0</td>\n",
       "      <td>-1.0</td>\n",
       "      <td>Unknown</td>\n",
       "      <td>PG</td>\n",
       "      <td>1994</td>\n",
       "      <td>1h 54m</td>\n",
       "      <td>NaN</td>\n",
       "      <td>NaN</td>\n",
       "    </tr>\n",
       "    <tr>\n",
       "      <th>77</th>\n",
       "      <td>Migration</td>\n",
       "      <td>7.1</td>\n",
       "      <td>848.0</td>\n",
       "      <td>-1.0</td>\n",
       "      <td>Unknown</td>\n",
       "      <td>PG</td>\n",
       "      <td>2023</td>\n",
       "      <td>1h 32m</td>\n",
       "      <td>NaN</td>\n",
       "      <td>NaN</td>\n",
       "    </tr>\n",
       "    <tr>\n",
       "      <th>...</th>\n",
       "      <td>...</td>\n",
       "      <td>...</td>\n",
       "      <td>...</td>\n",
       "      <td>...</td>\n",
       "      <td>...</td>\n",
       "      <td>...</td>\n",
       "      <td>...</td>\n",
       "      <td>...</td>\n",
       "      <td>...</td>\n",
       "      <td>...</td>\n",
       "    </tr>\n",
       "    <tr>\n",
       "      <th>1916</th>\n",
       "      <td>The Titfield Thunderbolt</td>\n",
       "      <td>7.0</td>\n",
       "      <td>3200.0</td>\n",
       "      <td>-1.0</td>\n",
       "      <td>Unknown</td>\n",
       "      <td>-1</td>\n",
       "      <td>1953</td>\n",
       "      <td>1h 24m</td>\n",
       "      <td>NaN</td>\n",
       "      <td>NaN</td>\n",
       "    </tr>\n",
       "    <tr>\n",
       "      <th>1928</th>\n",
       "      <td>Boudica: Queen of War</td>\n",
       "      <td>4.4</td>\n",
       "      <td>1600.0</td>\n",
       "      <td>-1.0</td>\n",
       "      <td>Unknown</td>\n",
       "      <td>R</td>\n",
       "      <td>2023</td>\n",
       "      <td>1h 41m</td>\n",
       "      <td>NaN</td>\n",
       "      <td>NaN</td>\n",
       "    </tr>\n",
       "    <tr>\n",
       "      <th>1930</th>\n",
       "      <td>Appointment with Death</td>\n",
       "      <td>6.1</td>\n",
       "      <td>5800.0</td>\n",
       "      <td>-1.0</td>\n",
       "      <td>Unknown</td>\n",
       "      <td>PG</td>\n",
       "      <td>1988</td>\n",
       "      <td>1h 42m</td>\n",
       "      <td>NaN</td>\n",
       "      <td>NaN</td>\n",
       "    </tr>\n",
       "    <tr>\n",
       "      <th>1934</th>\n",
       "      <td>The Night Walker</td>\n",
       "      <td>6.3</td>\n",
       "      <td>2300.0</td>\n",
       "      <td>-1.0</td>\n",
       "      <td>Unknown</td>\n",
       "      <td>Passed</td>\n",
       "      <td>1964</td>\n",
       "      <td>1h 26m</td>\n",
       "      <td>NaN</td>\n",
       "      <td>NaN</td>\n",
       "    </tr>\n",
       "    <tr>\n",
       "      <th>1948</th>\n",
       "      <td>Little Giants</td>\n",
       "      <td>6.4</td>\n",
       "      <td>30000.0</td>\n",
       "      <td>-1.0</td>\n",
       "      <td>Unknown</td>\n",
       "      <td>PG</td>\n",
       "      <td>1994</td>\n",
       "      <td>1h 47m</td>\n",
       "      <td>NaN</td>\n",
       "      <td>NaN</td>\n",
       "    </tr>\n",
       "  </tbody>\n",
       "</table>\n",
       "<p>117 rows × 10 columns</p>\n",
       "</div>"
      ],
      "text/plain": [
       "                     Movie Name  Rating    Votes  Meta Score    Genre  \\\n",
       "39                    The Shift     6.4   2400.0        -1.0  Unknown   \n",
       "41     Christmas on Cherry Lane     6.2    689.0        -1.0  Unknown   \n",
       "56                 Lady Ballers     6.2   9200.0        -1.0  Unknown   \n",
       "66       Miracle on 34th Street     6.6  42000.0        -1.0  Unknown   \n",
       "77                    Migration     7.1    848.0        -1.0  Unknown   \n",
       "...                         ...     ...      ...         ...      ...   \n",
       "1916   The Titfield Thunderbolt     7.0   3200.0        -1.0  Unknown   \n",
       "1928      Boudica: Queen of War     4.4   1600.0        -1.0  Unknown   \n",
       "1930     Appointment with Death     6.1   5800.0        -1.0  Unknown   \n",
       "1934           The Night Walker     6.3   2300.0        -1.0  Unknown   \n",
       "1948              Little Giants     6.4  30000.0        -1.0  Unknown   \n",
       "\n",
       "     PG Rating  Year Duration Cast Director  \n",
       "39       PG-13  2023   1h 55m  NaN      NaN  \n",
       "41        TV-G  2023   1h 30m  NaN      NaN  \n",
       "56       TV-14  2023   1h 52m  NaN      NaN  \n",
       "66          PG  1994   1h 54m  NaN      NaN  \n",
       "77          PG  2023   1h 32m  NaN      NaN  \n",
       "...        ...   ...      ...  ...      ...  \n",
       "1916        -1  1953   1h 24m  NaN      NaN  \n",
       "1928         R  2023   1h 41m  NaN      NaN  \n",
       "1930        PG  1988   1h 42m  NaN      NaN  \n",
       "1934    Passed  1964   1h 26m  NaN      NaN  \n",
       "1948        PG  1994   1h 47m  NaN      NaN  \n",
       "\n",
       "[117 rows x 10 columns]"
      ]
     },
     "execution_count": 17,
     "metadata": {},
     "output_type": "execute_result"
    }
   ],
   "source": [
    "df[df[\"Cast\"].isnull()]"
   ]
  },
  {
   "cell_type": "code",
   "execution_count": 18,
   "id": "5293c389",
   "metadata": {
    "execution": {
     "iopub.execute_input": "2024-01-28T08:19:52.197331Z",
     "iopub.status.busy": "2024-01-28T08:19:52.196305Z",
     "iopub.status.idle": "2024-01-28T08:19:52.206088Z",
     "shell.execute_reply": "2024-01-28T08:19:52.204584Z"
    },
    "papermill": {
     "duration": 0.029571,
     "end_time": "2024-01-28T08:19:52.209001",
     "exception": false,
     "start_time": "2024-01-28T08:19:52.179430",
     "status": "completed"
    },
    "tags": []
   },
   "outputs": [
    {
     "data": {
      "text/plain": [
       "0"
      ]
     },
     "execution_count": 18,
     "metadata": {},
     "output_type": "execute_result"
    }
   ],
   "source": [
    "df[\"Cast\"]=df[\"Cast\"].fillna(\"Unknown\")\n",
    "df[\"Cast\"].isnull().sum()"
   ]
  },
  {
   "cell_type": "markdown",
   "id": "02f87e80",
   "metadata": {
    "papermill": {
     "duration": 0.015994,
     "end_time": "2024-01-28T08:19:52.241252",
     "exception": false,
     "start_time": "2024-01-28T08:19:52.225258",
     "status": "completed"
    },
    "tags": []
   },
   "source": [
    "### Handling missing values in \"Director\" column"
   ]
  },
  {
   "cell_type": "code",
   "execution_count": 19,
   "id": "838977a5",
   "metadata": {
    "execution": {
     "iopub.execute_input": "2024-01-28T08:19:52.274583Z",
     "iopub.status.busy": "2024-01-28T08:19:52.273923Z",
     "iopub.status.idle": "2024-01-28T08:19:52.292610Z",
     "shell.execute_reply": "2024-01-28T08:19:52.291664Z"
    },
    "papermill": {
     "duration": 0.037991,
     "end_time": "2024-01-28T08:19:52.294770",
     "exception": false,
     "start_time": "2024-01-28T08:19:52.256779",
     "status": "completed"
    },
    "tags": []
   },
   "outputs": [
    {
     "data": {
      "text/html": [
       "<div>\n",
       "<style scoped>\n",
       "    .dataframe tbody tr th:only-of-type {\n",
       "        vertical-align: middle;\n",
       "    }\n",
       "\n",
       "    .dataframe tbody tr th {\n",
       "        vertical-align: top;\n",
       "    }\n",
       "\n",
       "    .dataframe thead th {\n",
       "        text-align: right;\n",
       "    }\n",
       "</style>\n",
       "<table border=\"1\" class=\"dataframe\">\n",
       "  <thead>\n",
       "    <tr style=\"text-align: right;\">\n",
       "      <th></th>\n",
       "      <th>Movie Name</th>\n",
       "      <th>Rating</th>\n",
       "      <th>Votes</th>\n",
       "      <th>Meta Score</th>\n",
       "      <th>Genre</th>\n",
       "      <th>PG Rating</th>\n",
       "      <th>Year</th>\n",
       "      <th>Duration</th>\n",
       "      <th>Cast</th>\n",
       "      <th>Director</th>\n",
       "    </tr>\n",
       "  </thead>\n",
       "  <tbody>\n",
       "    <tr>\n",
       "      <th>39</th>\n",
       "      <td>The Shift</td>\n",
       "      <td>6.4</td>\n",
       "      <td>2400.0</td>\n",
       "      <td>-1.0</td>\n",
       "      <td>Unknown</td>\n",
       "      <td>PG-13</td>\n",
       "      <td>2023</td>\n",
       "      <td>1h 55m</td>\n",
       "      <td>Unknown</td>\n",
       "      <td>NaN</td>\n",
       "    </tr>\n",
       "    <tr>\n",
       "      <th>41</th>\n",
       "      <td>Christmas on Cherry Lane</td>\n",
       "      <td>6.2</td>\n",
       "      <td>689.0</td>\n",
       "      <td>-1.0</td>\n",
       "      <td>Unknown</td>\n",
       "      <td>TV-G</td>\n",
       "      <td>2023</td>\n",
       "      <td>1h 30m</td>\n",
       "      <td>Unknown</td>\n",
       "      <td>NaN</td>\n",
       "    </tr>\n",
       "    <tr>\n",
       "      <th>56</th>\n",
       "      <td>Lady Ballers</td>\n",
       "      <td>6.2</td>\n",
       "      <td>9200.0</td>\n",
       "      <td>-1.0</td>\n",
       "      <td>Unknown</td>\n",
       "      <td>TV-14</td>\n",
       "      <td>2023</td>\n",
       "      <td>1h 52m</td>\n",
       "      <td>Unknown</td>\n",
       "      <td>NaN</td>\n",
       "    </tr>\n",
       "    <tr>\n",
       "      <th>66</th>\n",
       "      <td>Miracle on 34th Street</td>\n",
       "      <td>6.6</td>\n",
       "      <td>42000.0</td>\n",
       "      <td>-1.0</td>\n",
       "      <td>Unknown</td>\n",
       "      <td>PG</td>\n",
       "      <td>1994</td>\n",
       "      <td>1h 54m</td>\n",
       "      <td>Unknown</td>\n",
       "      <td>NaN</td>\n",
       "    </tr>\n",
       "    <tr>\n",
       "      <th>77</th>\n",
       "      <td>Migration</td>\n",
       "      <td>7.1</td>\n",
       "      <td>848.0</td>\n",
       "      <td>-1.0</td>\n",
       "      <td>Unknown</td>\n",
       "      <td>PG</td>\n",
       "      <td>2023</td>\n",
       "      <td>1h 32m</td>\n",
       "      <td>Unknown</td>\n",
       "      <td>NaN</td>\n",
       "    </tr>\n",
       "    <tr>\n",
       "      <th>...</th>\n",
       "      <td>...</td>\n",
       "      <td>...</td>\n",
       "      <td>...</td>\n",
       "      <td>...</td>\n",
       "      <td>...</td>\n",
       "      <td>...</td>\n",
       "      <td>...</td>\n",
       "      <td>...</td>\n",
       "      <td>...</td>\n",
       "      <td>...</td>\n",
       "    </tr>\n",
       "    <tr>\n",
       "      <th>1916</th>\n",
       "      <td>The Titfield Thunderbolt</td>\n",
       "      <td>7.0</td>\n",
       "      <td>3200.0</td>\n",
       "      <td>-1.0</td>\n",
       "      <td>Unknown</td>\n",
       "      <td>-1</td>\n",
       "      <td>1953</td>\n",
       "      <td>1h 24m</td>\n",
       "      <td>Unknown</td>\n",
       "      <td>NaN</td>\n",
       "    </tr>\n",
       "    <tr>\n",
       "      <th>1928</th>\n",
       "      <td>Boudica: Queen of War</td>\n",
       "      <td>4.4</td>\n",
       "      <td>1600.0</td>\n",
       "      <td>-1.0</td>\n",
       "      <td>Unknown</td>\n",
       "      <td>R</td>\n",
       "      <td>2023</td>\n",
       "      <td>1h 41m</td>\n",
       "      <td>Unknown</td>\n",
       "      <td>NaN</td>\n",
       "    </tr>\n",
       "    <tr>\n",
       "      <th>1930</th>\n",
       "      <td>Appointment with Death</td>\n",
       "      <td>6.1</td>\n",
       "      <td>5800.0</td>\n",
       "      <td>-1.0</td>\n",
       "      <td>Unknown</td>\n",
       "      <td>PG</td>\n",
       "      <td>1988</td>\n",
       "      <td>1h 42m</td>\n",
       "      <td>Unknown</td>\n",
       "      <td>NaN</td>\n",
       "    </tr>\n",
       "    <tr>\n",
       "      <th>1934</th>\n",
       "      <td>The Night Walker</td>\n",
       "      <td>6.3</td>\n",
       "      <td>2300.0</td>\n",
       "      <td>-1.0</td>\n",
       "      <td>Unknown</td>\n",
       "      <td>Passed</td>\n",
       "      <td>1964</td>\n",
       "      <td>1h 26m</td>\n",
       "      <td>Unknown</td>\n",
       "      <td>NaN</td>\n",
       "    </tr>\n",
       "    <tr>\n",
       "      <th>1948</th>\n",
       "      <td>Little Giants</td>\n",
       "      <td>6.4</td>\n",
       "      <td>30000.0</td>\n",
       "      <td>-1.0</td>\n",
       "      <td>Unknown</td>\n",
       "      <td>PG</td>\n",
       "      <td>1994</td>\n",
       "      <td>1h 47m</td>\n",
       "      <td>Unknown</td>\n",
       "      <td>NaN</td>\n",
       "    </tr>\n",
       "  </tbody>\n",
       "</table>\n",
       "<p>117 rows × 10 columns</p>\n",
       "</div>"
      ],
      "text/plain": [
       "                     Movie Name  Rating    Votes  Meta Score    Genre  \\\n",
       "39                    The Shift     6.4   2400.0        -1.0  Unknown   \n",
       "41     Christmas on Cherry Lane     6.2    689.0        -1.0  Unknown   \n",
       "56                 Lady Ballers     6.2   9200.0        -1.0  Unknown   \n",
       "66       Miracle on 34th Street     6.6  42000.0        -1.0  Unknown   \n",
       "77                    Migration     7.1    848.0        -1.0  Unknown   \n",
       "...                         ...     ...      ...         ...      ...   \n",
       "1916   The Titfield Thunderbolt     7.0   3200.0        -1.0  Unknown   \n",
       "1928      Boudica: Queen of War     4.4   1600.0        -1.0  Unknown   \n",
       "1930     Appointment with Death     6.1   5800.0        -1.0  Unknown   \n",
       "1934           The Night Walker     6.3   2300.0        -1.0  Unknown   \n",
       "1948              Little Giants     6.4  30000.0        -1.0  Unknown   \n",
       "\n",
       "     PG Rating  Year Duration     Cast Director  \n",
       "39       PG-13  2023   1h 55m  Unknown      NaN  \n",
       "41        TV-G  2023   1h 30m  Unknown      NaN  \n",
       "56       TV-14  2023   1h 52m  Unknown      NaN  \n",
       "66          PG  1994   1h 54m  Unknown      NaN  \n",
       "77          PG  2023   1h 32m  Unknown      NaN  \n",
       "...        ...   ...      ...      ...      ...  \n",
       "1916        -1  1953   1h 24m  Unknown      NaN  \n",
       "1928         R  2023   1h 41m  Unknown      NaN  \n",
       "1930        PG  1988   1h 42m  Unknown      NaN  \n",
       "1934    Passed  1964   1h 26m  Unknown      NaN  \n",
       "1948        PG  1994   1h 47m  Unknown      NaN  \n",
       "\n",
       "[117 rows x 10 columns]"
      ]
     },
     "execution_count": 19,
     "metadata": {},
     "output_type": "execute_result"
    }
   ],
   "source": [
    "df[df[\"Director\"].isnull()]"
   ]
  },
  {
   "cell_type": "code",
   "execution_count": 20,
   "id": "6baddff9",
   "metadata": {
    "execution": {
     "iopub.execute_input": "2024-01-28T08:19:52.327960Z",
     "iopub.status.busy": "2024-01-28T08:19:52.327122Z",
     "iopub.status.idle": "2024-01-28T08:19:52.335833Z",
     "shell.execute_reply": "2024-01-28T08:19:52.334490Z"
    },
    "papermill": {
     "duration": 0.028072,
     "end_time": "2024-01-28T08:19:52.338558",
     "exception": false,
     "start_time": "2024-01-28T08:19:52.310486",
     "status": "completed"
    },
    "tags": []
   },
   "outputs": [
    {
     "data": {
      "text/plain": [
       "0"
      ]
     },
     "execution_count": 20,
     "metadata": {},
     "output_type": "execute_result"
    }
   ],
   "source": [
    "df[\"Director\"]=df[\"Director\"].fillna(\"Unknown\")\n",
    "df[\"Director\"].isnull().sum()"
   ]
  },
  {
   "cell_type": "markdown",
   "id": "2fe76c88",
   "metadata": {
    "papermill": {
     "duration": 0.015101,
     "end_time": "2024-01-28T08:19:52.369948",
     "exception": false,
     "start_time": "2024-01-28T08:19:52.354847",
     "status": "completed"
    },
    "tags": []
   },
   "source": [
    "- **\"rating,votes,duration\" columns have less amount of NaN values,we can directly drop that.**"
   ]
  },
  {
   "cell_type": "code",
   "execution_count": 21,
   "id": "5b087cf6",
   "metadata": {
    "execution": {
     "iopub.execute_input": "2024-01-28T08:19:52.405237Z",
     "iopub.status.busy": "2024-01-28T08:19:52.403757Z",
     "iopub.status.idle": "2024-01-28T08:19:52.418250Z",
     "shell.execute_reply": "2024-01-28T08:19:52.416649Z"
    },
    "papermill": {
     "duration": 0.035702,
     "end_time": "2024-01-28T08:19:52.421173",
     "exception": false,
     "start_time": "2024-01-28T08:19:52.385471",
     "status": "completed"
    },
    "tags": []
   },
   "outputs": [
    {
     "data": {
      "text/plain": [
       "Movie Name    0.0\n",
       "Rating        0.0\n",
       "Votes         0.0\n",
       "Meta Score    0.0\n",
       "Genre         0.0\n",
       "PG Rating     0.0\n",
       "Year          0.0\n",
       "Duration      0.0\n",
       "Cast          0.0\n",
       "Director      0.0\n",
       "dtype: float64"
      ]
     },
     "execution_count": 21,
     "metadata": {},
     "output_type": "execute_result"
    }
   ],
   "source": [
    "df.dropna(inplace=True)\n",
    "df.isnull().mean()*100"
   ]
  },
  {
   "cell_type": "markdown",
   "id": "4208065c",
   "metadata": {
    "papermill": {
     "duration": 0.015449,
     "end_time": "2024-01-28T08:19:52.453225",
     "exception": false,
     "start_time": "2024-01-28T08:19:52.437776",
     "status": "completed"
    },
    "tags": []
   },
   "source": [
    "# Univariate Analysis"
   ]
  },
  {
   "cell_type": "markdown",
   "id": "ec18de17",
   "metadata": {
    "papermill": {
     "duration": 0.016099,
     "end_time": "2024-01-28T08:19:52.485674",
     "exception": false,
     "start_time": "2024-01-28T08:19:52.469575",
     "status": "completed"
    },
    "tags": []
   },
   "source": [
    "## Analysing \"PG Rating\" column"
   ]
  },
  {
   "cell_type": "code",
   "execution_count": 22,
   "id": "ee25420b",
   "metadata": {
    "execution": {
     "iopub.execute_input": "2024-01-28T08:19:52.521408Z",
     "iopub.status.busy": "2024-01-28T08:19:52.520105Z",
     "iopub.status.idle": "2024-01-28T08:19:52.529322Z",
     "shell.execute_reply": "2024-01-28T08:19:52.527967Z"
    },
    "papermill": {
     "duration": 0.029919,
     "end_time": "2024-01-28T08:19:52.532301",
     "exception": false,
     "start_time": "2024-01-28T08:19:52.502382",
     "status": "completed"
    },
    "tags": []
   },
   "outputs": [
    {
     "data": {
      "text/plain": [
       "19"
      ]
     },
     "execution_count": 22,
     "metadata": {},
     "output_type": "execute_result"
    }
   ],
   "source": [
    "df[\"PG Rating\"].nunique()"
   ]
  },
  {
   "cell_type": "code",
   "execution_count": 23,
   "id": "29fe9212",
   "metadata": {
    "execution": {
     "iopub.execute_input": "2024-01-28T08:19:52.565616Z",
     "iopub.status.busy": "2024-01-28T08:19:52.565188Z",
     "iopub.status.idle": "2024-01-28T08:19:52.575877Z",
     "shell.execute_reply": "2024-01-28T08:19:52.574029Z"
    },
    "papermill": {
     "duration": 0.030427,
     "end_time": "2024-01-28T08:19:52.578864",
     "exception": false,
     "start_time": "2024-01-28T08:19:52.548437",
     "status": "completed"
    },
    "tags": []
   },
   "outputs": [
    {
     "data": {
      "text/plain": [
       "PG Rating\n",
       "R        0.434089\n",
       "PG-13    0.314624\n",
       "PG       0.143151\n",
       "-1       0.038105\n",
       "G        0.024202\n",
       "Name: proportion, dtype: float64"
      ]
     },
     "execution_count": 23,
     "metadata": {},
     "output_type": "execute_result"
    }
   ],
   "source": [
    "df[\"PG Rating\"].value_counts(normalize=True)[:5]"
   ]
  },
  {
   "cell_type": "code",
   "execution_count": 24,
   "id": "00d0a3ff",
   "metadata": {
    "execution": {
     "iopub.execute_input": "2024-01-28T08:19:52.612940Z",
     "iopub.status.busy": "2024-01-28T08:19:52.612449Z",
     "iopub.status.idle": "2024-01-28T08:19:52.891125Z",
     "shell.execute_reply": "2024-01-28T08:19:52.890194Z"
    },
    "papermill": {
     "duration": 0.298172,
     "end_time": "2024-01-28T08:19:52.893386",
     "exception": false,
     "start_time": "2024-01-28T08:19:52.595214",
     "status": "completed"
    },
    "tags": []
   },
   "outputs": [
    {
     "data": {
      "text/plain": [
       "<Axes: xlabel='PG Rating'>"
      ]
     },
     "execution_count": 24,
     "metadata": {},
     "output_type": "execute_result"
    },
    {
     "data": {
      "image/png": "[encoded data removed]",
      "text/plain": [
       "<Figure size 640x480 with 1 Axes>"
      ]
     },
     "metadata": {},
     "output_type": "display_data"
    }
   ],
   "source": [
    "df[\"PG Rating\"].value_counts(normalize=True)[:5].plot.bar()"
   ]
  },
  {
   "cell_type": "markdown",
   "id": "0d002e8c",
   "metadata": {
    "papermill": {
     "duration": 0.015268,
     "end_time": "2024-01-28T08:19:52.924898",
     "exception": false,
     "start_time": "2024-01-28T08:19:52.909630",
     "status": "completed"
    },
    "tags": []
   },
   "source": [
    "- **Inference**\n",
    "- Around 43% of the movies in the given dataset are R rated, 31% have a PG rating og PG-13 and 14% are PG rated."
   ]
  },
  {
   "cell_type": "markdown",
   "id": "ce9d78db",
   "metadata": {
    "papermill": {
     "duration": 0.014898,
     "end_time": "2024-01-28T08:19:52.955197",
     "exception": false,
     "start_time": "2024-01-28T08:19:52.940299",
     "status": "completed"
    },
    "tags": []
   },
   "source": [
    "## Analysing \"Director\" column"
   ]
  },
  {
   "cell_type": "code",
   "execution_count": 25,
   "id": "fe20acab",
   "metadata": {
    "execution": {
     "iopub.execute_input": "2024-01-28T08:19:52.988562Z",
     "iopub.status.busy": "2024-01-28T08:19:52.987868Z",
     "iopub.status.idle": "2024-01-28T08:19:52.994562Z",
     "shell.execute_reply": "2024-01-28T08:19:52.993775Z"
    },
    "papermill": {
     "duration": 0.02581,
     "end_time": "2024-01-28T08:19:52.996306",
     "exception": false,
     "start_time": "2024-01-28T08:19:52.970496",
     "status": "completed"
    },
    "tags": []
   },
   "outputs": [
    {
     "data": {
      "text/plain": [
       "958"
      ]
     },
     "execution_count": 25,
     "metadata": {},
     "output_type": "execute_result"
    }
   ],
   "source": [
    "df[\"Director\"].nunique()"
   ]
  },
  {
   "cell_type": "code",
   "execution_count": 26,
   "id": "8987d741",
   "metadata": {
    "execution": {
     "iopub.execute_input": "2024-01-28T08:19:53.030175Z",
     "iopub.status.busy": "2024-01-28T08:19:53.029731Z",
     "iopub.status.idle": "2024-01-28T08:19:53.040237Z",
     "shell.execute_reply": "2024-01-28T08:19:53.039278Z"
    },
    "papermill": {
     "duration": 0.029823,
     "end_time": "2024-01-28T08:19:53.042242",
     "exception": false,
     "start_time": "2024-01-28T08:19:53.012419",
     "status": "completed"
    },
    "tags": []
   },
   "outputs": [
    {
     "data": {
      "text/plain": [
       "Director\n",
       "Unknown                            115\n",
       "Steven Spielberg                    25\n",
       "Ridley Scott                        18\n",
       "Martin Scorsese                     15\n",
       "Tim Burton                          12\n",
       "                                  ... \n",
       "Ron ClementsJohn MuskerDon Hall      1\n",
       "Robert De Niro                       1\n",
       "Charlie Day                          1\n",
       "Sam H. FreemanNg Choon Ping          1\n",
       "Adam Brooks                          1\n",
       "Name: count, Length: 958, dtype: int64"
      ]
     },
     "execution_count": 26,
     "metadata": {},
     "output_type": "execute_result"
    }
   ],
   "source": [
    "df[\"Director\"].value_counts()"
   ]
  },
  {
   "cell_type": "markdown",
   "id": "ce4f51d4",
   "metadata": {
    "papermill": {
     "duration": 0.015847,
     "end_time": "2024-01-28T08:19:53.074471",
     "exception": false,
     "start_time": "2024-01-28T08:19:53.058624",
     "status": "completed"
    },
    "tags": []
   },
   "source": [
    "- **Inference**\n",
    "- Director, Steven Spielberg has released the maximum number of movies in the given dataset."
   ]
  },
  {
   "cell_type": "markdown",
   "id": "9dc18de9",
   "metadata": {
    "papermill": {
     "duration": 0.015555,
     "end_time": "2024-01-28T08:19:53.105921",
     "exception": false,
     "start_time": "2024-01-28T08:19:53.090366",
     "status": "completed"
    },
    "tags": []
   },
   "source": [
    "## Analysing \"Year\" feature"
   ]
  },
  {
   "cell_type": "code",
   "execution_count": 27,
   "id": "23cfe58d",
   "metadata": {
    "execution": {
     "iopub.execute_input": "2024-01-28T08:19:53.140203Z",
     "iopub.status.busy": "2024-01-28T08:19:53.139781Z",
     "iopub.status.idle": "2024-01-28T08:19:53.149319Z",
     "shell.execute_reply": "2024-01-28T08:19:53.147792Z"
    },
    "papermill": {
     "duration": 0.029545,
     "end_time": "2024-01-28T08:19:53.151457",
     "exception": false,
     "start_time": "2024-01-28T08:19:53.121912",
     "status": "completed"
    },
    "tags": []
   },
   "outputs": [
    {
     "data": {
      "text/plain": [
       "83"
      ]
     },
     "execution_count": 27,
     "metadata": {},
     "output_type": "execute_result"
    }
   ],
   "source": [
    "df[\"Year\"].nunique()"
   ]
  },
  {
   "cell_type": "code",
   "execution_count": 28,
   "id": "11c007a7",
   "metadata": {
    "execution": {
     "iopub.execute_input": "2024-01-28T08:19:53.185672Z",
     "iopub.status.busy": "2024-01-28T08:19:53.185289Z",
     "iopub.status.idle": "2024-01-28T08:19:53.196407Z",
     "shell.execute_reply": "2024-01-28T08:19:53.195065Z"
    },
    "papermill": {
     "duration": 0.030417,
     "end_time": "2024-01-28T08:19:53.198284",
     "exception": false,
     "start_time": "2024-01-28T08:19:53.167867",
     "status": "completed"
    },
    "tags": []
   },
   "outputs": [
    {
     "data": {
      "text/plain": [
       "Year\n",
       "2023    0.126674\n",
       "2022    0.059217\n",
       "2019    0.039135\n",
       "Name: proportion, dtype: float64"
      ]
     },
     "execution_count": 28,
     "metadata": {},
     "output_type": "execute_result"
    }
   ],
   "source": [
    "df[\"Year\"].value_counts(normalize=True)[:3]"
   ]
  },
  {
   "cell_type": "code",
   "execution_count": 29,
   "id": "ed52ae7a",
   "metadata": {
    "execution": {
     "iopub.execute_input": "2024-01-28T08:19:53.232877Z",
     "iopub.status.busy": "2024-01-28T08:19:53.232430Z",
     "iopub.status.idle": "2024-01-28T08:19:53.445764Z",
     "shell.execute_reply": "2024-01-28T08:19:53.444782Z"
    },
    "papermill": {
     "duration": 0.233406,
     "end_time": "2024-01-28T08:19:53.448045",
     "exception": false,
     "start_time": "2024-01-28T08:19:53.214639",
     "status": "completed"
    },
    "tags": []
   },
   "outputs": [
    {
     "data": {
      "text/plain": [
       "<Axes: xlabel='Year'>"
      ]
     },
     "execution_count": 29,
     "metadata": {},
     "output_type": "execute_result"
    },
    {
     "data": {
      "image/png": "[encoded data removed]",
      "text/plain": [
       "<Figure size 640x480 with 1 Axes>"
      ]
     },
     "metadata": {},
     "output_type": "display_data"
    }
   ],
   "source": [
    "df[\"Year\"].value_counts(normalize=True)[:3].plot.bar()"
   ]
  },
  {
   "cell_type": "markdown",
   "id": "b406a50d",
   "metadata": {
    "papermill": {
     "duration": 0.017056,
     "end_time": "2024-01-28T08:19:53.482418",
     "exception": false,
     "start_time": "2024-01-28T08:19:53.465362",
     "status": "completed"
    },
    "tags": []
   },
   "source": [
    "- **Inference**\n",
    "- Around 14% of the movies in the dataset were released in the year 2023."
   ]
  },
  {
   "cell_type": "markdown",
   "id": "e2353f3b",
   "metadata": {
    "papermill": {
     "duration": 0.017346,
     "end_time": "2024-01-28T08:19:53.517283",
     "exception": false,
     "start_time": "2024-01-28T08:19:53.499937",
     "status": "completed"
    },
    "tags": []
   },
   "source": [
    "### Another method for analysing the \"Year\" column"
   ]
  },
  {
   "cell_type": "code",
   "execution_count": 30,
   "id": "23880ca9",
   "metadata": {
    "execution": {
     "iopub.execute_input": "2024-01-28T08:19:53.555703Z",
     "iopub.status.busy": "2024-01-28T08:19:53.554926Z",
     "iopub.status.idle": "2024-01-28T08:19:53.911732Z",
     "shell.execute_reply": "2024-01-28T08:19:53.910781Z"
    },
    "papermill": {
     "duration": 0.378777,
     "end_time": "2024-01-28T08:19:53.913912",
     "exception": false,
     "start_time": "2024-01-28T08:19:53.535135",
     "status": "completed"
    },
    "tags": []
   },
   "outputs": [
    {
     "data": {
      "text/plain": [
       "<Axes: xlabel='Year', ylabel='Density'>"
      ]
     },
     "execution_count": 30,
     "metadata": {},
     "output_type": "execute_result"
    },
    {
     "data": {
      "image/png": "[encoded data removed]",
      "text/plain": [
       "<Figure size 640x480 with 1 Axes>"
      ]
     },
     "metadata": {},
     "output_type": "display_data"
    }
   ],
   "source": [
    "sns.distplot(df[\"Year\"])"
   ]
  },
  {
   "cell_type": "code",
   "execution_count": 31,
   "id": "3fe949c2",
   "metadata": {
    "execution": {
     "iopub.execute_input": "2024-01-28T08:19:53.951239Z",
     "iopub.status.busy": "2024-01-28T08:19:53.950346Z",
     "iopub.status.idle": "2024-01-28T08:19:55.196115Z",
     "shell.execute_reply": "2024-01-28T08:19:55.195367Z"
    },
    "papermill": {
     "duration": 1.267072,
     "end_time": "2024-01-28T08:19:55.198260",
     "exception": false,
     "start_time": "2024-01-28T08:19:53.931188",
     "status": "completed"
    },
    "tags": []
   },
   "outputs": [
    {
     "data": {
      "text/plain": [
       "<Axes: xlabel='Year', ylabel='count'>"
      ]
     },
     "execution_count": 31,
     "metadata": {},
     "output_type": "execute_result"
    },
    {
     "data": {
      "image/png": "[encoded data removed]",
      "text/plain": [
       "<Figure size 1200x800 with 1 Axes>"
      ]
     },
     "metadata": {},
     "output_type": "display_data"
    }
   ],
   "source": [
    "plt.figure(figsize=(12,8))\n",
    "sns.countplot(x = df['Year'])"
   ]
  },
  {
   "cell_type": "markdown",
   "id": "84eaa8a9",
   "metadata": {
    "papermill": {
     "duration": 0.018514,
     "end_time": "2024-01-28T08:19:55.235548",
     "exception": false,
     "start_time": "2024-01-28T08:19:55.217034",
     "status": "completed"
    },
    "tags": []
   },
   "source": [
    "- **Inference**\n",
    "- Majority of the shows were released in the year 2023."
   ]
  },
  {
   "cell_type": "markdown",
   "id": "f9011498",
   "metadata": {
    "papermill": {
     "duration": 0.017664,
     "end_time": "2024-01-28T08:19:55.272017",
     "exception": false,
     "start_time": "2024-01-28T08:19:55.254353",
     "status": "completed"
    },
    "tags": []
   },
   "source": [
    "## Analysing \"Genre\" column"
   ]
  },
  {
   "cell_type": "code",
   "execution_count": 32,
   "id": "e5ec0c73",
   "metadata": {
    "execution": {
     "iopub.execute_input": "2024-01-28T08:19:55.311748Z",
     "iopub.status.busy": "2024-01-28T08:19:55.310313Z",
     "iopub.status.idle": "2024-01-28T08:19:55.318162Z",
     "shell.execute_reply": "2024-01-28T08:19:55.317290Z"
    },
    "papermill": {
     "duration": 0.030449,
     "end_time": "2024-01-28T08:19:55.320859",
     "exception": false,
     "start_time": "2024-01-28T08:19:55.290410",
     "status": "completed"
    },
    "tags": []
   },
   "outputs": [],
   "source": [
    "genre_list=df[\"Genre\"].str.split(\",\")"
   ]
  },
  {
   "cell_type": "code",
   "execution_count": 33,
   "id": "6731f31e",
   "metadata": {
    "execution": {
     "iopub.execute_input": "2024-01-28T08:19:55.359204Z",
     "iopub.status.busy": "2024-01-28T08:19:55.358757Z",
     "iopub.status.idle": "2024-01-28T08:19:55.370937Z",
     "shell.execute_reply": "2024-01-28T08:19:55.369257Z"
    },
    "papermill": {
     "duration": 0.034807,
     "end_time": "2024-01-28T08:19:55.373904",
     "exception": false,
     "start_time": "2024-01-28T08:19:55.339097",
     "status": "completed"
    },
    "tags": []
   },
   "outputs": [],
   "source": [
    "df[\"Genre_1\"]=genre_list.str.get(0)\n",
    "df[\"Genre_2\"]=genre_list.str.get(1)\n",
    "df[\"Genre_3\"]=genre_list.str.get(2)"
   ]
  },
  {
   "cell_type": "code",
   "execution_count": 34,
   "id": "f283d592",
   "metadata": {
    "execution": {
     "iopub.execute_input": "2024-01-28T08:19:55.411825Z",
     "iopub.status.busy": "2024-01-28T08:19:55.411437Z",
     "iopub.status.idle": "2024-01-28T08:19:55.419163Z",
     "shell.execute_reply": "2024-01-28T08:19:55.418026Z"
    },
    "papermill": {
     "duration": 0.028787,
     "end_time": "2024-01-28T08:19:55.420979",
     "exception": false,
     "start_time": "2024-01-28T08:19:55.392192",
     "status": "completed"
    },
    "tags": []
   },
   "outputs": [],
   "source": [
    "df.drop(\"Genre\",axis=1,inplace=True)"
   ]
  },
  {
   "cell_type": "code",
   "execution_count": 35,
   "id": "834a9107",
   "metadata": {
    "execution": {
     "iopub.execute_input": "2024-01-28T08:19:55.459952Z",
     "iopub.status.busy": "2024-01-28T08:19:55.458681Z",
     "iopub.status.idle": "2024-01-28T08:19:55.477417Z",
     "shell.execute_reply": "2024-01-28T08:19:55.476068Z"
    },
    "papermill": {
     "duration": 0.039834,
     "end_time": "2024-01-28T08:19:55.479218",
     "exception": false,
     "start_time": "2024-01-28T08:19:55.439384",
     "status": "completed"
    },
    "tags": []
   },
   "outputs": [
    {
     "data": {
      "text/html": [
       "<div>\n",
       "<style scoped>\n",
       "    .dataframe tbody tr th:only-of-type {\n",
       "        vertical-align: middle;\n",
       "    }\n",
       "\n",
       "    .dataframe tbody tr th {\n",
       "        vertical-align: top;\n",
       "    }\n",
       "\n",
       "    .dataframe thead th {\n",
       "        text-align: right;\n",
       "    }\n",
       "</style>\n",
       "<table border=\"1\" class=\"dataframe\">\n",
       "  <thead>\n",
       "    <tr style=\"text-align: right;\">\n",
       "      <th></th>\n",
       "      <th>Movie Name</th>\n",
       "      <th>Rating</th>\n",
       "      <th>Votes</th>\n",
       "      <th>Meta Score</th>\n",
       "      <th>PG Rating</th>\n",
       "      <th>Year</th>\n",
       "      <th>Duration</th>\n",
       "      <th>Cast</th>\n",
       "      <th>Director</th>\n",
       "      <th>Genre_1</th>\n",
       "      <th>Genre_2</th>\n",
       "      <th>Genre_3</th>\n",
       "    </tr>\n",
       "  </thead>\n",
       "  <tbody>\n",
       "    <tr>\n",
       "      <th>0</th>\n",
       "      <td>Leave the World Behind</td>\n",
       "      <td>6.5</td>\n",
       "      <td>90000.0</td>\n",
       "      <td>67.0</td>\n",
       "      <td>R</td>\n",
       "      <td>2023</td>\n",
       "      <td>2h 18m</td>\n",
       "      <td>Julia Roberts, Mahershala Ali, Ethan Hawke, My...</td>\n",
       "      <td>Sam Esmail</td>\n",
       "      <td>Drama</td>\n",
       "      <td>Mystery</td>\n",
       "      <td>Thriller</td>\n",
       "    </tr>\n",
       "    <tr>\n",
       "      <th>1</th>\n",
       "      <td>Wonka</td>\n",
       "      <td>7.4</td>\n",
       "      <td>24000.0</td>\n",
       "      <td>66.0</td>\n",
       "      <td>PG</td>\n",
       "      <td>2023</td>\n",
       "      <td>1h 56m</td>\n",
       "      <td>Timothée Chalamet, Gustave Die, Murray McArthu...</td>\n",
       "      <td>Paul King</td>\n",
       "      <td>Adventure</td>\n",
       "      <td>Comedy</td>\n",
       "      <td>Family</td>\n",
       "    </tr>\n",
       "    <tr>\n",
       "      <th>2</th>\n",
       "      <td>Poor Things</td>\n",
       "      <td>8.5</td>\n",
       "      <td>6700.0</td>\n",
       "      <td>86.0</td>\n",
       "      <td>R</td>\n",
       "      <td>2023</td>\n",
       "      <td>2h 21m</td>\n",
       "      <td>Emma Stone, Mark Ruffalo, Willem Dafoe, Ramy Y...</td>\n",
       "      <td>Yorgos Lanthimos</td>\n",
       "      <td>Comedy</td>\n",
       "      <td>Drama</td>\n",
       "      <td>Romance</td>\n",
       "    </tr>\n",
       "    <tr>\n",
       "      <th>3</th>\n",
       "      <td>Killers of the Flower Moon</td>\n",
       "      <td>7.8</td>\n",
       "      <td>128000.0</td>\n",
       "      <td>89.0</td>\n",
       "      <td>R</td>\n",
       "      <td>2023</td>\n",
       "      <td>3h 26m</td>\n",
       "      <td>Leonardo DiCaprio, Robert De Niro, Lily Gladst...</td>\n",
       "      <td>Martin Scorsese</td>\n",
       "      <td>Crime</td>\n",
       "      <td>Drama</td>\n",
       "      <td>History</td>\n",
       "    </tr>\n",
       "    <tr>\n",
       "      <th>4</th>\n",
       "      <td>May December</td>\n",
       "      <td>7.0</td>\n",
       "      <td>21000.0</td>\n",
       "      <td>85.0</td>\n",
       "      <td>R</td>\n",
       "      <td>2023</td>\n",
       "      <td>1h 57m</td>\n",
       "      <td>Natalie Portman, Chris Tenzis, Charles Melton,...</td>\n",
       "      <td>Todd Haynes</td>\n",
       "      <td>Comedy</td>\n",
       "      <td>Drama</td>\n",
       "      <td>NaN</td>\n",
       "    </tr>\n",
       "  </tbody>\n",
       "</table>\n",
       "</div>"
      ],
      "text/plain": [
       "                    Movie Name  Rating     Votes  Meta Score PG Rating  Year  \\\n",
       "0       Leave the World Behind     6.5   90000.0        67.0         R  2023   \n",
       "1                        Wonka     7.4   24000.0        66.0        PG  2023   \n",
       "2                  Poor Things     8.5    6700.0        86.0         R  2023   \n",
       "3   Killers of the Flower Moon     7.8  128000.0        89.0         R  2023   \n",
       "4                 May December     7.0   21000.0        85.0         R  2023   \n",
       "\n",
       "  Duration                                               Cast  \\\n",
       "0   2h 18m  Julia Roberts, Mahershala Ali, Ethan Hawke, My...   \n",
       "1   1h 56m  Timothée Chalamet, Gustave Die, Murray McArthu...   \n",
       "2   2h 21m  Emma Stone, Mark Ruffalo, Willem Dafoe, Ramy Y...   \n",
       "3   3h 26m  Leonardo DiCaprio, Robert De Niro, Lily Gladst...   \n",
       "4   1h 57m  Natalie Portman, Chris Tenzis, Charles Melton,...   \n",
       "\n",
       "           Director    Genre_1   Genre_2    Genre_3  \n",
       "0        Sam Esmail      Drama   Mystery   Thriller  \n",
       "1         Paul King  Adventure    Comedy     Family  \n",
       "2  Yorgos Lanthimos     Comedy     Drama    Romance  \n",
       "3   Martin Scorsese      Crime     Drama    History  \n",
       "4       Todd Haynes     Comedy     Drama        NaN  "
      ]
     },
     "execution_count": 35,
     "metadata": {},
     "output_type": "execute_result"
    }
   ],
   "source": [
    "df.head()"
   ]
  },
  {
   "cell_type": "code",
   "execution_count": 36,
   "id": "46c1e79e",
   "metadata": {
    "execution": {
     "iopub.execute_input": "2024-01-28T08:19:55.517086Z",
     "iopub.status.busy": "2024-01-28T08:19:55.515741Z",
     "iopub.status.idle": "2024-01-28T08:19:55.754324Z",
     "shell.execute_reply": "2024-01-28T08:19:55.752161Z"
    },
    "papermill": {
     "duration": 0.26038,
     "end_time": "2024-01-28T08:19:55.757282",
     "exception": false,
     "start_time": "2024-01-28T08:19:55.496902",
     "status": "completed"
    },
    "tags": []
   },
   "outputs": [
    {
     "data": {
      "text/plain": [
       "<Axes: xlabel='Genre_1'>"
      ]
     },
     "execution_count": 36,
     "metadata": {},
     "output_type": "execute_result"
    },
    {
     "data": {
      "image/png": "[encoded data removed]",
      "text/plain": [
       "<Figure size 640x480 with 1 Axes>"
      ]
     },
     "metadata": {},
     "output_type": "display_data"
    }
   ],
   "source": [
    "df['Genre_1'].value_counts(normalize=True)[:5].plot.bar()"
   ]
  },
  {
   "cell_type": "markdown",
   "id": "667983c1",
   "metadata": {
    "papermill": {
     "duration": 0.018969,
     "end_time": "2024-01-28T08:19:55.795959",
     "exception": false,
     "start_time": "2024-01-28T08:19:55.776990",
     "status": "completed"
    },
    "tags": []
   },
   "source": [
    "- **Inference**\n",
    "- The dataset has highest movies of Action, followed by Comedy."
   ]
  },
  {
   "cell_type": "code",
   "execution_count": 37,
   "id": "0c2b229b",
   "metadata": {
    "execution": {
     "iopub.execute_input": "2024-01-28T08:19:55.835807Z",
     "iopub.status.busy": "2024-01-28T08:19:55.834494Z",
     "iopub.status.idle": "2024-01-28T08:19:55.856748Z",
     "shell.execute_reply": "2024-01-28T08:19:55.855579Z"
    },
    "papermill": {
     "duration": 0.044938,
     "end_time": "2024-01-28T08:19:55.859336",
     "exception": false,
     "start_time": "2024-01-28T08:19:55.814398",
     "status": "completed"
    },
    "tags": []
   },
   "outputs": [
    {
     "data": {
      "text/html": [
       "<div>\n",
       "<style scoped>\n",
       "    .dataframe tbody tr th:only-of-type {\n",
       "        vertical-align: middle;\n",
       "    }\n",
       "\n",
       "    .dataframe tbody tr th {\n",
       "        vertical-align: top;\n",
       "    }\n",
       "\n",
       "    .dataframe thead th {\n",
       "        text-align: right;\n",
       "    }\n",
       "</style>\n",
       "<table border=\"1\" class=\"dataframe\">\n",
       "  <thead>\n",
       "    <tr style=\"text-align: right;\">\n",
       "      <th></th>\n",
       "      <th>Movie Name</th>\n",
       "      <th>Rating</th>\n",
       "      <th>Votes</th>\n",
       "      <th>Meta Score</th>\n",
       "      <th>PG Rating</th>\n",
       "      <th>Year</th>\n",
       "      <th>Duration</th>\n",
       "      <th>Cast</th>\n",
       "      <th>Director</th>\n",
       "      <th>Genre_1</th>\n",
       "      <th>Genre_2</th>\n",
       "      <th>Genre_3</th>\n",
       "    </tr>\n",
       "  </thead>\n",
       "  <tbody>\n",
       "    <tr>\n",
       "      <th>0</th>\n",
       "      <td>Leave the World Behind</td>\n",
       "      <td>6.5</td>\n",
       "      <td>90000.0</td>\n",
       "      <td>67.0</td>\n",
       "      <td>R</td>\n",
       "      <td>2023</td>\n",
       "      <td>2h 18m</td>\n",
       "      <td>Julia Roberts, Mahershala Ali, Ethan Hawke, My...</td>\n",
       "      <td>Sam Esmail</td>\n",
       "      <td>Drama</td>\n",
       "      <td>Mystery</td>\n",
       "      <td>Thriller</td>\n",
       "    </tr>\n",
       "    <tr>\n",
       "      <th>1</th>\n",
       "      <td>Wonka</td>\n",
       "      <td>7.4</td>\n",
       "      <td>24000.0</td>\n",
       "      <td>66.0</td>\n",
       "      <td>PG</td>\n",
       "      <td>2023</td>\n",
       "      <td>1h 56m</td>\n",
       "      <td>Timothée Chalamet, Gustave Die, Murray McArthu...</td>\n",
       "      <td>Paul King</td>\n",
       "      <td>Adventure</td>\n",
       "      <td>Comedy</td>\n",
       "      <td>Family</td>\n",
       "    </tr>\n",
       "    <tr>\n",
       "      <th>2</th>\n",
       "      <td>Poor Things</td>\n",
       "      <td>8.5</td>\n",
       "      <td>6700.0</td>\n",
       "      <td>86.0</td>\n",
       "      <td>R</td>\n",
       "      <td>2023</td>\n",
       "      <td>2h 21m</td>\n",
       "      <td>Emma Stone, Mark Ruffalo, Willem Dafoe, Ramy Y...</td>\n",
       "      <td>Yorgos Lanthimos</td>\n",
       "      <td>Comedy</td>\n",
       "      <td>Drama</td>\n",
       "      <td>Romance</td>\n",
       "    </tr>\n",
       "    <tr>\n",
       "      <th>3</th>\n",
       "      <td>Killers of the Flower Moon</td>\n",
       "      <td>7.8</td>\n",
       "      <td>128000.0</td>\n",
       "      <td>89.0</td>\n",
       "      <td>R</td>\n",
       "      <td>2023</td>\n",
       "      <td>3h 26m</td>\n",
       "      <td>Leonardo DiCaprio, Robert De Niro, Lily Gladst...</td>\n",
       "      <td>Martin Scorsese</td>\n",
       "      <td>Crime</td>\n",
       "      <td>Drama</td>\n",
       "      <td>History</td>\n",
       "    </tr>\n",
       "    <tr>\n",
       "      <th>4</th>\n",
       "      <td>May December</td>\n",
       "      <td>7.0</td>\n",
       "      <td>21000.0</td>\n",
       "      <td>85.0</td>\n",
       "      <td>R</td>\n",
       "      <td>2023</td>\n",
       "      <td>1h 57m</td>\n",
       "      <td>Natalie Portman, Chris Tenzis, Charles Melton,...</td>\n",
       "      <td>Todd Haynes</td>\n",
       "      <td>Comedy</td>\n",
       "      <td>Drama</td>\n",
       "      <td>NaN</td>\n",
       "    </tr>\n",
       "    <tr>\n",
       "      <th>...</th>\n",
       "      <td>...</td>\n",
       "      <td>...</td>\n",
       "      <td>...</td>\n",
       "      <td>...</td>\n",
       "      <td>...</td>\n",
       "      <td>...</td>\n",
       "      <td>...</td>\n",
       "      <td>...</td>\n",
       "      <td>...</td>\n",
       "      <td>...</td>\n",
       "      <td>...</td>\n",
       "      <td>...</td>\n",
       "    </tr>\n",
       "    <tr>\n",
       "      <th>1945</th>\n",
       "      <td>Definitely, Maybe</td>\n",
       "      <td>7.1</td>\n",
       "      <td>172000.0</td>\n",
       "      <td>59.0</td>\n",
       "      <td>PG-13</td>\n",
       "      <td>2008</td>\n",
       "      <td>1h 52m</td>\n",
       "      <td>Ryan Reynolds, Rachel Weisz, Abigail Breslin, ...</td>\n",
       "      <td>Adam Brooks</td>\n",
       "      <td>Comedy</td>\n",
       "      <td>Drama</td>\n",
       "      <td>Romance</td>\n",
       "    </tr>\n",
       "    <tr>\n",
       "      <th>1946</th>\n",
       "      <td>The Fly</td>\n",
       "      <td>7.6</td>\n",
       "      <td>198000.0</td>\n",
       "      <td>79.0</td>\n",
       "      <td>R</td>\n",
       "      <td>1986</td>\n",
       "      <td>1h 36m</td>\n",
       "      <td>Jeff Goldblum, Geena Davis, John Getz, Joy Bou...</td>\n",
       "      <td>David Cronenberg</td>\n",
       "      <td>Drama</td>\n",
       "      <td>Horror</td>\n",
       "      <td>Sci-Fi</td>\n",
       "    </tr>\n",
       "    <tr>\n",
       "      <th>1947</th>\n",
       "      <td>The Mighty Ducks</td>\n",
       "      <td>6.5</td>\n",
       "      <td>71000.0</td>\n",
       "      <td>46.0</td>\n",
       "      <td>PG</td>\n",
       "      <td>1992</td>\n",
       "      <td>1h 44m</td>\n",
       "      <td>Emilio Estevez, Joss Ackland, Lane Smith, Heid...</td>\n",
       "      <td>Stephen Herek</td>\n",
       "      <td>Comedy</td>\n",
       "      <td>Drama</td>\n",
       "      <td>Family</td>\n",
       "    </tr>\n",
       "    <tr>\n",
       "      <th>1948</th>\n",
       "      <td>Little Giants</td>\n",
       "      <td>6.4</td>\n",
       "      <td>30000.0</td>\n",
       "      <td>-1.0</td>\n",
       "      <td>PG</td>\n",
       "      <td>1994</td>\n",
       "      <td>1h 47m</td>\n",
       "      <td>Unknown</td>\n",
       "      <td>Unknown</td>\n",
       "      <td>Unknown</td>\n",
       "      <td>NaN</td>\n",
       "      <td>NaN</td>\n",
       "    </tr>\n",
       "    <tr>\n",
       "      <th>1949</th>\n",
       "      <td>American Made</td>\n",
       "      <td>7.1</td>\n",
       "      <td>203000.0</td>\n",
       "      <td>65.0</td>\n",
       "      <td>R</td>\n",
       "      <td>2017</td>\n",
       "      <td>1h 55m</td>\n",
       "      <td>Tom Cruise, Domhnall Gleeson, Sarah Wright, Je...</td>\n",
       "      <td>Doug Liman</td>\n",
       "      <td>Action</td>\n",
       "      <td>Comedy</td>\n",
       "      <td>Crime</td>\n",
       "    </tr>\n",
       "  </tbody>\n",
       "</table>\n",
       "<p>1942 rows × 12 columns</p>\n",
       "</div>"
      ],
      "text/plain": [
       "                       Movie Name  Rating     Votes  Meta Score PG Rating  \\\n",
       "0          Leave the World Behind     6.5   90000.0        67.0         R   \n",
       "1                           Wonka     7.4   24000.0        66.0        PG   \n",
       "2                     Poor Things     8.5    6700.0        86.0         R   \n",
       "3      Killers of the Flower Moon     7.8  128000.0        89.0         R   \n",
       "4                    May December     7.0   21000.0        85.0         R   \n",
       "...                           ...     ...       ...         ...       ...   \n",
       "1945            Definitely, Maybe     7.1  172000.0        59.0     PG-13   \n",
       "1946                      The Fly     7.6  198000.0        79.0         R   \n",
       "1947             The Mighty Ducks     6.5   71000.0        46.0        PG   \n",
       "1948                Little Giants     6.4   30000.0        -1.0        PG   \n",
       "1949                American Made     7.1  203000.0        65.0         R   \n",
       "\n",
       "      Year Duration                                               Cast  \\\n",
       "0     2023   2h 18m  Julia Roberts, Mahershala Ali, Ethan Hawke, My...   \n",
       "1     2023   1h 56m  Timothée Chalamet, Gustave Die, Murray McArthu...   \n",
       "2     2023   2h 21m  Emma Stone, Mark Ruffalo, Willem Dafoe, Ramy Y...   \n",
       "3     2023   3h 26m  Leonardo DiCaprio, Robert De Niro, Lily Gladst...   \n",
       "4     2023   1h 57m  Natalie Portman, Chris Tenzis, Charles Melton,...   \n",
       "...    ...      ...                                                ...   \n",
       "1945  2008   1h 52m  Ryan Reynolds, Rachel Weisz, Abigail Breslin, ...   \n",
       "1946  1986   1h 36m  Jeff Goldblum, Geena Davis, John Getz, Joy Bou...   \n",
       "1947  1992   1h 44m  Emilio Estevez, Joss Ackland, Lane Smith, Heid...   \n",
       "1948  1994   1h 47m                                            Unknown   \n",
       "1949  2017   1h 55m  Tom Cruise, Domhnall Gleeson, Sarah Wright, Je...   \n",
       "\n",
       "              Director    Genre_1   Genre_2    Genre_3  \n",
       "0           Sam Esmail      Drama   Mystery   Thriller  \n",
       "1            Paul King  Adventure    Comedy     Family  \n",
       "2     Yorgos Lanthimos     Comedy     Drama    Romance  \n",
       "3      Martin Scorsese      Crime     Drama    History  \n",
       "4          Todd Haynes     Comedy     Drama        NaN  \n",
       "...                ...        ...       ...        ...  \n",
       "1945       Adam Brooks     Comedy     Drama    Romance  \n",
       "1946  David Cronenberg      Drama    Horror     Sci-Fi  \n",
       "1947     Stephen Herek     Comedy     Drama     Family  \n",
       "1948           Unknown    Unknown       NaN        NaN  \n",
       "1949        Doug Liman     Action    Comedy      Crime  \n",
       "\n",
       "[1942 rows x 12 columns]"
      ]
     },
     "execution_count": 37,
     "metadata": {},
     "output_type": "execute_result"
    }
   ],
   "source": [
    "df"
   ]
  },
  {
   "cell_type": "markdown",
   "id": "e77c79ac",
   "metadata": {
    "papermill": {
     "duration": 0.024628,
     "end_time": "2024-01-28T08:19:55.908744",
     "exception": false,
     "start_time": "2024-01-28T08:19:55.884116",
     "status": "completed"
    },
    "tags": []
   },
   "source": [
    "# Bivariate Analysis"
   ]
  },
  {
   "cell_type": "code",
   "execution_count": 38,
   "id": "25ba900c",
   "metadata": {
    "execution": {
     "iopub.execute_input": "2024-01-28T08:19:55.955106Z",
     "iopub.status.busy": "2024-01-28T08:19:55.953820Z",
     "iopub.status.idle": "2024-01-28T08:19:55.962980Z",
     "shell.execute_reply": "2024-01-28T08:19:55.961809Z"
    },
    "papermill": {
     "duration": 0.036844,
     "end_time": "2024-01-28T08:19:55.966135",
     "exception": false,
     "start_time": "2024-01-28T08:19:55.929291",
     "status": "completed"
    },
    "tags": []
   },
   "outputs": [],
   "source": [
    "temp_df = df[df['Year'].isin(df['Year'].value_counts()[:5].index)]"
   ]
  },
  {
   "cell_type": "code",
   "execution_count": 39,
   "id": "c7db0ec1",
   "metadata": {
    "execution": {
     "iopub.execute_input": "2024-01-28T08:19:56.010788Z",
     "iopub.status.busy": "2024-01-28T08:19:56.010288Z",
     "iopub.status.idle": "2024-01-28T08:19:56.519896Z",
     "shell.execute_reply": "2024-01-28T08:19:56.518884Z"
    },
    "papermill": {
     "duration": 0.532753,
     "end_time": "2024-01-28T08:19:56.521938",
     "exception": false,
     "start_time": "2024-01-28T08:19:55.989185",
     "status": "completed"
    },
    "tags": []
   },
   "outputs": [
    {
     "data": {
      "text/plain": [
       "<Axes: xlabel='Year', ylabel='count'>"
      ]
     },
     "execution_count": 39,
     "metadata": {},
     "output_type": "execute_result"
    },
    {
     "data": {
      "image/png": "[encoded data removed]",
      "text/plain": [
       "<Figure size 640x480 with 1 Axes>"
      ]
     },
     "metadata": {},
     "output_type": "display_data"
    }
   ],
   "source": [
    "sns.countplot(data=temp_df,x='Year',hue='PG Rating')"
   ]
  },
  {
   "cell_type": "markdown",
   "id": "0ec13a24",
   "metadata": {
    "papermill": {
     "duration": 0.018753,
     "end_time": "2024-01-28T08:19:56.559862",
     "exception": false,
     "start_time": "2024-01-28T08:19:56.541109",
     "status": "completed"
    },
    "tags": []
   },
   "source": [
    "- **Inference**\n",
    "- Every year, majority of the movies released are R rated, followed by PG rated movies."
   ]
  },
  {
   "cell_type": "code",
   "execution_count": 40,
   "id": "4713bc42",
   "metadata": {
    "execution": {
     "iopub.execute_input": "2024-01-28T08:19:56.600879Z",
     "iopub.status.busy": "2024-01-28T08:19:56.600487Z",
     "iopub.status.idle": "2024-01-28T08:19:57.115469Z",
     "shell.execute_reply": "2024-01-28T08:19:57.113805Z"
    },
    "papermill": {
     "duration": 0.538499,
     "end_time": "2024-01-28T08:19:57.117905",
     "exception": false,
     "start_time": "2024-01-28T08:19:56.579406",
     "status": "completed"
    },
    "tags": []
   },
   "outputs": [
    {
     "data": {
      "text/plain": [
       "<Axes: xlabel='Year', ylabel='count'>"
      ]
     },
     "execution_count": 40,
     "metadata": {},
     "output_type": "execute_result"
    },
    {
     "data": {
      "image/png": "[encoded data removed]",
      "text/plain": [
       "<Figure size 640x480 with 1 Axes>"
      ]
     },
     "metadata": {},
     "output_type": "display_data"
    }
   ],
   "source": [
    "sns.countplot(data=temp_df,x='Year',hue='Genre_1')"
   ]
  },
  {
   "cell_type": "markdown",
   "id": "174daced",
   "metadata": {
    "papermill": {
     "duration": 0.021067,
     "end_time": "2024-01-28T08:19:57.159960",
     "exception": false,
     "start_time": "2024-01-28T08:19:57.138893",
     "status": "completed"
    },
    "tags": []
   },
   "source": [
    "# Summary\n",
    "- Around 43% of the movies in the given dataset are R rated, 31% have a PG rating og PG-13 and 14% are PG rated.\n",
    "- Director, Steven Spielberg has released the maximum number of movies in the given dataset.\n",
    "- Around 14% of the movies in the dataset were released in the year 2023.\n",
    "- Majority of the shows were released in the year 2023.\n",
    "- The dataset has highest movies of Action, followed by Comedy.\n",
    "- Every year, majority of the movies released are R rated, followed by PG rated movies."
   ]
  }
 ],
 "metadata": {
  "kaggle": {
   "accelerator": "none",
   "dataSources": [
    {
     "datasetId": 4274533,
     "sourceId": 7359256,
     "sourceType": "datasetVersion"
    }
   ],
   "dockerImageVersionId": 30635,
   "isGpuEnabled": false,
   "isInternetEnabled": false,
   "language": "python",
   "sourceType": "notebook"
  },
  "kernelspec": {
   "display_name": "Python 3",
   "language": "python",
   "name": "python3"
  },
  "language_info": {
   "codemirror_mode": {
    "name": "ipython",
    "version": 3
   },
   "file_extension": ".py",
   "mimetype": "text/x-python",
   "name": "python",
   "nbconvert_exporter": "python",
   "pygments_lexer": "ipython3",
   "version": "3.10.12"
  },
  "papermill": {
   "default_parameters": {},
   "duration": 14.336054,
   "end_time": "2024-01-28T08:20:00.580954",
   "environment_variables": {},
   "exception": null,
   "input_path": "__notebook__.ipynb",
   "output_path": "__notebook__.ipynb",
   "parameters": {},
   "start_time": "2024-01-28T08:19:46.244900",
   "version": "2.4.0"
  }
 },
 "nbformat": 4,
 "nbformat_minor": 5
}
