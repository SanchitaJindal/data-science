{
 "cells": [
  {
   "cell_type": "code",
   "execution_count": 1,
   "id": "d094858b-37ea-4c9e-b9f4-823b61750d4f",
   "metadata": {},
   "outputs": [],
   "source": [
    "# Just a sample. Will not run"
   ]
  },
  {
   "cell_type": "code",
   "execution_count": 4,
   "id": "569b7a12-6c30-4232-89ec-fad14454344c",
   "metadata": {},
   "outputs": [],
   "source": [
    "#convert the textual data to feature vectors\n",
    "# vectorizer=TfidVectorizer()\n",
    "# vectorizer.fit(X)\n",
    "# vectorizer.transform(X)"
   ]
  }
 ],
 "metadata": {
  "kernelspec": {
   "display_name": "Python 3 (ipykernel)",
   "language": "python",
   "name": "python3"
  },
  "language_info": {
   "codemirror_mode": {
    "name": "ipython",
    "version": 3
   },
   "file_extension": ".py",
   "mimetype": "text/x-python",
   "name": "python",
   "nbconvert_exporter": "python",
   "pygments_lexer": "ipython3",
   "version": "3.9.6"
  }
 },
 "nbformat": 4,
 "nbformat_minor": 5
}
